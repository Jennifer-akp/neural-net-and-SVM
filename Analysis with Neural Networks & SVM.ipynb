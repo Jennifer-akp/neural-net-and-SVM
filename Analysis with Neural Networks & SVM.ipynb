{
 "cells": [
  {
   "cell_type": "markdown",
   "metadata": {},
   "source": [
    "## Learning with Neural networks"
   ]
  },
  {
   "cell_type": "code",
   "execution_count": 1,
   "metadata": {},
   "outputs": [],
   "source": [
    "import numpy as np\n",
    "import pandas as pd\n",
    "import matplotlib.pyplot as plt\n",
    "import tensorflow as tf\n",
    "import graphviz\n",
    "from sklearn.model_selection import train_test_split\n",
    "from sklearn.preprocessing import StandardScaler as ss\n",
    "from sklearn import svm\n",
    "from sklearn.metrics import confusion_matrix\n",
    "from mpl_toolkits.mplot3d import Axes3D\n",
    "from sklearn import metrics"
   ]
  },
  {
   "cell_type": "markdown",
   "metadata": {},
   "source": [
    " \n",
    "<b/> a. Read the data from csv file.\n",
    "<br/> b. Read selected columns (attributes) and the label as attribute 14.\n",
    "<br/> c. Form a numpy array\n",
    "<br/> d. Split into training, testing sets with the data. Use 20% as the testing ratio.\n",
    "<br/> e. Standardize the continuous attributes. (fit on training and apply on train/test)."
   ]
  },
  {
   "cell_type": "code",
   "execution_count": 2,
   "metadata": {},
   "outputs": [
    {
     "data": {
      "text/html": [
       "<div>\n",
       "<style scoped>\n",
       "    .dataframe tbody tr th:only-of-type {\n",
       "        vertical-align: middle;\n",
       "    }\n",
       "\n",
       "    .dataframe tbody tr th {\n",
       "        vertical-align: top;\n",
       "    }\n",
       "\n",
       "    .dataframe thead th {\n",
       "        text-align: right;\n",
       "    }\n",
       "</style>\n",
       "<table border=\"1\" class=\"dataframe\">\n",
       "  <thead>\n",
       "    <tr style=\"text-align: right;\">\n",
       "      <th></th>\n",
       "      <th>age</th>\n",
       "      <th>sex</th>\n",
       "      <th>cp</th>\n",
       "      <th>trestbps</th>\n",
       "      <th>chol</th>\n",
       "      <th>fbs</th>\n",
       "      <th>restecg</th>\n",
       "      <th>thalach</th>\n",
       "      <th>exang</th>\n",
       "      <th>oldpeak</th>\n",
       "      <th>slope</th>\n",
       "      <th>ca</th>\n",
       "      <th>thal</th>\n",
       "      <th>target</th>\n",
       "    </tr>\n",
       "  </thead>\n",
       "  <tbody>\n",
       "    <tr>\n",
       "      <th>0</th>\n",
       "      <td>63</td>\n",
       "      <td>1</td>\n",
       "      <td>3</td>\n",
       "      <td>145</td>\n",
       "      <td>233</td>\n",
       "      <td>1</td>\n",
       "      <td>0</td>\n",
       "      <td>150</td>\n",
       "      <td>0</td>\n",
       "      <td>2.3</td>\n",
       "      <td>0</td>\n",
       "      <td>0</td>\n",
       "      <td>1</td>\n",
       "      <td>1</td>\n",
       "    </tr>\n",
       "    <tr>\n",
       "      <th>1</th>\n",
       "      <td>37</td>\n",
       "      <td>1</td>\n",
       "      <td>2</td>\n",
       "      <td>130</td>\n",
       "      <td>250</td>\n",
       "      <td>0</td>\n",
       "      <td>1</td>\n",
       "      <td>187</td>\n",
       "      <td>0</td>\n",
       "      <td>3.5</td>\n",
       "      <td>0</td>\n",
       "      <td>0</td>\n",
       "      <td>2</td>\n",
       "      <td>1</td>\n",
       "    </tr>\n",
       "    <tr>\n",
       "      <th>2</th>\n",
       "      <td>41</td>\n",
       "      <td>0</td>\n",
       "      <td>1</td>\n",
       "      <td>130</td>\n",
       "      <td>204</td>\n",
       "      <td>0</td>\n",
       "      <td>0</td>\n",
       "      <td>172</td>\n",
       "      <td>0</td>\n",
       "      <td>1.4</td>\n",
       "      <td>2</td>\n",
       "      <td>0</td>\n",
       "      <td>2</td>\n",
       "      <td>1</td>\n",
       "    </tr>\n",
       "    <tr>\n",
       "      <th>3</th>\n",
       "      <td>56</td>\n",
       "      <td>1</td>\n",
       "      <td>1</td>\n",
       "      <td>120</td>\n",
       "      <td>236</td>\n",
       "      <td>0</td>\n",
       "      <td>1</td>\n",
       "      <td>178</td>\n",
       "      <td>0</td>\n",
       "      <td>0.8</td>\n",
       "      <td>2</td>\n",
       "      <td>0</td>\n",
       "      <td>2</td>\n",
       "      <td>1</td>\n",
       "    </tr>\n",
       "    <tr>\n",
       "      <th>4</th>\n",
       "      <td>57</td>\n",
       "      <td>0</td>\n",
       "      <td>0</td>\n",
       "      <td>120</td>\n",
       "      <td>354</td>\n",
       "      <td>0</td>\n",
       "      <td>1</td>\n",
       "      <td>163</td>\n",
       "      <td>1</td>\n",
       "      <td>0.6</td>\n",
       "      <td>2</td>\n",
       "      <td>0</td>\n",
       "      <td>2</td>\n",
       "      <td>1</td>\n",
       "    </tr>\n",
       "  </tbody>\n",
       "</table>\n",
       "</div>"
      ],
      "text/plain": [
       "   age  sex  cp  trestbps  chol  fbs  restecg  thalach  exang  oldpeak  slope  \\\n",
       "0   63    1   3       145   233    1        0      150      0      2.3      0   \n",
       "1   37    1   2       130   250    0        1      187      0      3.5      0   \n",
       "2   41    0   1       130   204    0        0      172      0      1.4      2   \n",
       "3   56    1   1       120   236    0        1      178      0      0.8      2   \n",
       "4   57    0   0       120   354    0        1      163      1      0.6      2   \n",
       "\n",
       "   ca  thal  target  \n",
       "0   0     1       1  \n",
       "1   0     2       1  \n",
       "2   0     2       1  \n",
       "3   0     2       1  \n",
       "4   0     2       1  "
      ]
     },
     "metadata": {},
     "output_type": "display_data"
    },
    {
     "name": "stdout",
     "output_type": "stream",
     "text": [
      "(296, 14)\n",
      "__________________________________________________\n",
      "X = features\n"
     ]
    },
    {
     "data": {
      "text/plain": [
       "array([[ 63. ,   1. ,   3. , 145. , 233. ,   1. ,   0. , 150. ,   0. ,\n",
       "          2.3,   0. ,   0. ,   1. ],\n",
       "       [ 37. ,   1. ,   2. , 130. , 250. ,   0. ,   1. , 187. ,   0. ,\n",
       "          3.5,   0. ,   0. ,   2. ],\n",
       "       [ 41. ,   0. ,   1. , 130. , 204. ,   0. ,   0. , 172. ,   0. ,\n",
       "          1.4,   2. ,   0. ,   2. ],\n",
       "       [ 56. ,   1. ,   1. , 120. , 236. ,   0. ,   1. , 178. ,   0. ,\n",
       "          0.8,   2. ,   0. ,   2. ],\n",
       "       [ 57. ,   0. ,   0. , 120. , 354. ,   0. ,   1. , 163. ,   1. ,\n",
       "          0.6,   2. ,   0. ,   2. ]])"
      ]
     },
     "metadata": {},
     "output_type": "display_data"
    },
    {
     "name": "stdout",
     "output_type": "stream",
     "text": [
      "__________________________________________________\n",
      "y = target\n"
     ]
    },
    {
     "data": {
      "text/plain": [
       "array([1., 1., 1., 1., 1.])"
      ]
     },
     "metadata": {},
     "output_type": "display_data"
    },
    {
     "name": "stdout",
     "output_type": "stream",
     "text": [
      "train set:(236, 13)\n",
      "\n",
      "test set:(60, 13)\n"
     ]
    }
   ],
   "source": [
    "##read data from csv file\n",
    "df1 = pd.read_csv('./Desktop/Dataset/heart.csv')\n",
    "\n",
    "display (df1.head())\n",
    "\n",
    "##removes nan and incorrect data\n",
    "d = df1 ['ca'] != 4\n",
    "df1 = df1[d]\n",
    "df1 = df1[df1['thal'] != 0]\n",
    "print(df1.shape)\n",
    "\n",
    "##convert pandas to numpy (array)\n",
    "df = df1.to_numpy()\n",
    "\n",
    "## Split the data into inputs (X) and output (Y)\n",
    "X = df[:, :13] \n",
    "Y = df[:, -1] \n",
    "# print (X.shape)\n",
    "# print (Y.shape)\n",
    "print ('_'*50)\n",
    "print ('X = features')\n",
    "display (X [0:5])\n",
    "print ('_'*50)\n",
    "print ('y = target')\n",
    "display (Y [0:5])\n",
    "\n",
    "\n",
    "##split X and Y into train and test set\n",
    "\n",
    "X_train, X_test, y_train, y_test = train_test_split(X, Y, test_size=0.2, random_state=0)\n",
    "\n",
    "print ( 'train set:' +str (X_train.shape) +'\\n' '\\n'+  'test set:' +str(X_test.shape))\n",
    "\n",
    "\n",
    "\n",
    "## standardize the continuous attributes\n",
    "sc = ss()\n",
    "X_train = sc.fit_transform(X_train)  #note this also transforms and fits the model.\n",
    "X_test = sc.transform(X_test)"
   ]
  },
  {
   "cell_type": "markdown",
   "metadata": {},
   "source": [
    "###  Implement the Neural Network Classifier:\n",
    "<b/> a. Use a two hidden layer neural network with 128 neurons in each layer with a ‘relu” activation. The input is the 13 standardized attributes as features.\n",
    "<br/>b. In the output layer, specify a 2 neuron (no heart disease, heart disease) output, with ‘softmax’ activation.\n",
    "<br/>c. Compile the model, using ‘adam’ optimizer, loss as ‘categorical_crossentropy’, and metrics [‘accuracy’].\n",
    "<br/>d. Fit (train) the model using the training data for 150 epoch. (Chosen from the loss plots for convergence)\n",
    "<br/>e. Evaluate the results of the model."
   ]
  },
  {
   "cell_type": "code",
   "execution_count": 3,
   "metadata": {},
   "outputs": [
    {
     "name": "stderr",
     "output_type": "stream",
     "text": [
      "Using TensorFlow backend.\n"
     ]
    }
   ],
   "source": [
    "#use these features to the classifier.\n",
    "#now we have X_train, X_test, y_train, y_test.\n",
    "#We need to now define the neural networks\n",
    "from keras import regularizers, optimizers\n",
    "from keras.utils import to_categorical\n",
    "from keras.models import Sequential\n",
    "from keras.layers import Dense, Activation, Dropout"
   ]
  },
  {
   "cell_type": "code",
   "execution_count": 4,
   "metadata": {},
   "outputs": [],
   "source": [
    "#convert to one-hot\n",
    "train_labels_enc = to_categorical(y_train)\n",
    "test_labels_enc = to_categorical(y_test)"
   ]
  },
  {
   "cell_type": "code",
   "execution_count": 5,
   "metadata": {},
   "outputs": [
    {
     "name": "stdout",
     "output_type": "stream",
     "text": [
      "[[1. 0.]\n",
      " [1. 0.]\n",
      " [0. 1.]\n",
      " [1. 0.]\n",
      " [1. 0.]]\n"
     ]
    }
   ],
   "source": [
    "#parameters for neural net\n",
    "num_inputs1 = X_train.shape[1] # Total number 0f input variables (per sample)\n",
    "num_labels1 = train_labels_enc.shape[1] # Total number of output labels - 3.\n",
    "#one hot encoding: so label 0 is [1 0 0]. label 1 is [0 1 0], label 2 is [0 0 1],\n",
    "print(test_labels_enc[0:5])"
   ]
  },
  {
   "cell_type": "markdown",
   "metadata": {},
   "source": [
    "### Use a two hidden layer neural network with 128 neurons in each layer with a ‘relu” activation. The input is the 13 standardized attributes as features.\n"
   ]
  },
  {
   "cell_type": "code",
   "execution_count": 6,
   "metadata": {},
   "outputs": [],
   "source": [
    "#build neural net model\n",
    "model = Sequential()  #tf.keras.sequential is different...\n",
    "model.add(Dense(128, input_shape=(num_inputs1,)))\n",
    "model.add(Activation('relu'))\n",
    "model.add(Dense(128, kernel_regularizer=regularizers.l2(0.01))) \n",
    "model.add(Activation('relu'))"
   ]
  },
  {
   "cell_type": "markdown",
   "metadata": {},
   "source": [
    "### In the output layer, specify a 2 neuron (no heart disease, heart disease) output, with ‘softmax’ activation.    \n",
    "<b/> c. Compile the model, using ‘adam’ optimizer, loss as ‘categorical_crossentropy’, and metrics [‘accuracy’]."
   ]
  },
  {
   "cell_type": "code",
   "execution_count": 7,
   "metadata": {},
   "outputs": [
    {
     "name": "stdout",
     "output_type": "stream",
     "text": [
      "Model: \"sequential_1\"\n",
      "_________________________________________________________________\n",
      "Layer (type)                 Output Shape              Param #   \n",
      "=================================================================\n",
      "dense_1 (Dense)              (None, 128)               1792      \n",
      "_________________________________________________________________\n",
      "activation_1 (Activation)    (None, 128)               0         \n",
      "_________________________________________________________________\n",
      "dense_2 (Dense)              (None, 128)               16512     \n",
      "_________________________________________________________________\n",
      "activation_2 (Activation)    (None, 128)               0         \n",
      "_________________________________________________________________\n",
      "dense_3 (Dense)              (None, 2)                 258       \n",
      "_________________________________________________________________\n",
      "activation_3 (Activation)    (None, 2)                 0         \n",
      "=================================================================\n",
      "Total params: 18,562\n",
      "Trainable params: 18,562\n",
      "Non-trainable params: 0\n",
      "_________________________________________________________________\n"
     ]
    }
   ],
   "source": [
    "\n",
    "model.add(Dense(num_labels1))\n",
    "model.add(Activation('softmax'))\n",
    "model.summary()  #check number of parameters in dense layer is Wx + b, output=# neurons, (param = output * input + output * b)\n",
    "sgd = optimizers.SGD(lr=0.05)  #optional, define a custom optimizer or just specify optimizer='sgd' or 'adam' in compile()\n",
    "model.compile(optimizer= 'adam',\n",
    "              loss='categorical_crossentropy',\n",
    "              metrics=['accuracy'])"
   ]
  },
  {
   "cell_type": "markdown",
   "metadata": {},
   "source": [
    "### Fit (train) the model using the training data for 150 epoch. (Chosen from the loss plots for convergence)"
   ]
  },
  {
   "cell_type": "code",
   "execution_count": 8,
   "metadata": {},
   "outputs": [
    {
     "name": "stdout",
     "output_type": "stream",
     "text": [
      "Train on 165 samples, validate on 71 samples\n",
      "Epoch 1/150\n",
      "165/165 [==============================] - 0s 2ms/step - loss: 1.9250 - accuracy: 0.5576 - val_loss: 1.8067 - val_accuracy: 0.7324\n",
      "Epoch 2/150\n",
      "165/165 [==============================] - 0s 193us/step - loss: 1.6864 - accuracy: 0.8242 - val_loss: 1.6657 - val_accuracy: 0.7465\n",
      "Epoch 3/150\n",
      "165/165 [==============================] - 0s 193us/step - loss: 1.5223 - accuracy: 0.8485 - val_loss: 1.5727 - val_accuracy: 0.7465\n",
      "Epoch 4/150\n",
      "165/165 [==============================] - 0s 189us/step - loss: 1.4026 - accuracy: 0.8667 - val_loss: 1.4932 - val_accuracy: 0.7746\n",
      "Epoch 5/150\n",
      "165/165 [==============================] - 0s 186us/step - loss: 1.3016 - accuracy: 0.8667 - val_loss: 1.4184 - val_accuracy: 0.7746\n",
      "Epoch 6/150\n",
      "165/165 [==============================] - 0s 203us/step - loss: 1.2136 - accuracy: 0.8848 - val_loss: 1.3456 - val_accuracy: 0.7746\n",
      "Epoch 7/150\n",
      "165/165 [==============================] - 0s 202us/step - loss: 1.1347 - accuracy: 0.8970 - val_loss: 1.2846 - val_accuracy: 0.8028\n",
      "Epoch 8/150\n",
      "165/165 [==============================] - 0s 166us/step - loss: 1.0601 - accuracy: 0.9030 - val_loss: 1.2365 - val_accuracy: 0.7887\n",
      "Epoch 9/150\n",
      "165/165 [==============================] - 0s 173us/step - loss: 0.9943 - accuracy: 0.9030 - val_loss: 1.2011 - val_accuracy: 0.7606\n",
      "Epoch 10/150\n",
      "165/165 [==============================] - 0s 258us/step - loss: 0.9428 - accuracy: 0.8909 - val_loss: 1.1732 - val_accuracy: 0.7465\n",
      "Epoch 11/150\n",
      "165/165 [==============================] - 0s 177us/step - loss: 0.8851 - accuracy: 0.8970 - val_loss: 1.1150 - val_accuracy: 0.7465\n",
      "Epoch 12/150\n",
      "165/165 [==============================] - 0s 167us/step - loss: 0.8310 - accuracy: 0.9152 - val_loss: 1.0608 - val_accuracy: 0.8169\n",
      "Epoch 13/150\n",
      "165/165 [==============================] - 0s 173us/step - loss: 0.7873 - accuracy: 0.9030 - val_loss: 1.0153 - val_accuracy: 0.8310\n",
      "Epoch 14/150\n",
      "165/165 [==============================] - 0s 171us/step - loss: 0.7450 - accuracy: 0.9152 - val_loss: 0.9889 - val_accuracy: 0.8169\n",
      "Epoch 15/150\n",
      "165/165 [==============================] - 0s 182us/step - loss: 0.7023 - accuracy: 0.9212 - val_loss: 0.9628 - val_accuracy: 0.7887\n",
      "Epoch 16/150\n",
      "165/165 [==============================] - 0s 166us/step - loss: 0.6687 - accuracy: 0.9212 - val_loss: 0.9237 - val_accuracy: 0.8028\n",
      "Epoch 17/150\n",
      "165/165 [==============================] - 0s 187us/step - loss: 0.6337 - accuracy: 0.9152 - val_loss: 0.8968 - val_accuracy: 0.8028\n",
      "Epoch 18/150\n",
      "165/165 [==============================] - 0s 186us/step - loss: 0.6014 - accuracy: 0.9273 - val_loss: 0.8891 - val_accuracy: 0.8169\n",
      "Epoch 19/150\n",
      "165/165 [==============================] - 0s 216us/step - loss: 0.5708 - accuracy: 0.9333 - val_loss: 0.8948 - val_accuracy: 0.7746\n",
      "Epoch 20/150\n",
      "165/165 [==============================] - 0s 203us/step - loss: 0.5478 - accuracy: 0.9394 - val_loss: 0.8775 - val_accuracy: 0.7887\n",
      "Epoch 21/150\n",
      "165/165 [==============================] - 0s 161us/step - loss: 0.5235 - accuracy: 0.9455 - val_loss: 0.8701 - val_accuracy: 0.7887\n",
      "Epoch 22/150\n",
      "165/165 [==============================] - 0s 190us/step - loss: 0.4995 - accuracy: 0.9333 - val_loss: 0.8716 - val_accuracy: 0.7746\n",
      "Epoch 23/150\n",
      "165/165 [==============================] - 0s 202us/step - loss: 0.4763 - accuracy: 0.9333 - val_loss: 0.8535 - val_accuracy: 0.7606\n",
      "Epoch 24/150\n",
      "165/165 [==============================] - 0s 161us/step - loss: 0.4547 - accuracy: 0.9333 - val_loss: 0.8054 - val_accuracy: 0.8028\n",
      "Epoch 25/150\n",
      "165/165 [==============================] - 0s 165us/step - loss: 0.4347 - accuracy: 0.9333 - val_loss: 0.7895 - val_accuracy: 0.8028\n",
      "Epoch 26/150\n",
      "165/165 [==============================] - 0s 239us/step - loss: 0.4174 - accuracy: 0.9515 - val_loss: 0.7738 - val_accuracy: 0.8028\n",
      "Epoch 27/150\n",
      "165/165 [==============================] - 0s 191us/step - loss: 0.4005 - accuracy: 0.9515 - val_loss: 0.7736 - val_accuracy: 0.7887\n",
      "Epoch 28/150\n",
      "165/165 [==============================] - 0s 176us/step - loss: 0.3835 - accuracy: 0.9394 - val_loss: 0.7754 - val_accuracy: 0.7887\n",
      "Epoch 29/150\n",
      "165/165 [==============================] - 0s 161us/step - loss: 0.3715 - accuracy: 0.9515 - val_loss: 0.7567 - val_accuracy: 0.7746\n",
      "Epoch 30/150\n",
      "165/165 [==============================] - 0s 165us/step - loss: 0.3630 - accuracy: 0.9576 - val_loss: 0.7567 - val_accuracy: 0.7887\n",
      "Epoch 31/150\n",
      "165/165 [==============================] - 0s 192us/step - loss: 0.3495 - accuracy: 0.9515 - val_loss: 0.7409 - val_accuracy: 0.7606\n",
      "Epoch 32/150\n",
      "165/165 [==============================] - 0s 179us/step - loss: 0.3342 - accuracy: 0.9576 - val_loss: 0.7495 - val_accuracy: 0.7746\n",
      "Epoch 33/150\n",
      "165/165 [==============================] - 0s 174us/step - loss: 0.3217 - accuracy: 0.9576 - val_loss: 0.7808 - val_accuracy: 0.7606\n",
      "Epoch 34/150\n",
      "165/165 [==============================] - 0s 168us/step - loss: 0.3148 - accuracy: 0.9636 - val_loss: 0.7854 - val_accuracy: 0.7746\n",
      "Epoch 35/150\n",
      "165/165 [==============================] - 0s 189us/step - loss: 0.2995 - accuracy: 0.9576 - val_loss: 0.7858 - val_accuracy: 0.7887\n",
      "Epoch 36/150\n",
      "165/165 [==============================] - 0s 176us/step - loss: 0.2890 - accuracy: 0.9636 - val_loss: 0.7870 - val_accuracy: 0.7746\n",
      "Epoch 37/150\n",
      "165/165 [==============================] - 0s 171us/step - loss: 0.2799 - accuracy: 0.9576 - val_loss: 0.7785 - val_accuracy: 0.7887\n",
      "Epoch 38/150\n",
      "165/165 [==============================] - 0s 171us/step - loss: 0.2701 - accuracy: 0.9636 - val_loss: 0.7932 - val_accuracy: 0.7606\n",
      "Epoch 39/150\n",
      "165/165 [==============================] - 0s 187us/step - loss: 0.2611 - accuracy: 0.9576 - val_loss: 0.7694 - val_accuracy: 0.7746\n",
      "Epoch 40/150\n",
      "165/165 [==============================] - 0s 182us/step - loss: 0.2544 - accuracy: 0.9818 - val_loss: 0.7562 - val_accuracy: 0.7746\n",
      "Epoch 41/150\n",
      "165/165 [==============================] - 0s 160us/step - loss: 0.2452 - accuracy: 0.9818 - val_loss: 0.7466 - val_accuracy: 0.7887\n",
      "Epoch 42/150\n",
      "165/165 [==============================] - 0s 173us/step - loss: 0.2369 - accuracy: 0.9758 - val_loss: 0.7431 - val_accuracy: 0.8028\n",
      "Epoch 43/150\n",
      "165/165 [==============================] - 0s 172us/step - loss: 0.2315 - accuracy: 0.9697 - val_loss: 0.7719 - val_accuracy: 0.7746\n",
      "Epoch 44/150\n",
      "165/165 [==============================] - 0s 169us/step - loss: 0.2217 - accuracy: 0.9758 - val_loss: 0.7653 - val_accuracy: 0.7887\n",
      "Epoch 45/150\n",
      "165/165 [==============================] - 0s 165us/step - loss: 0.2195 - accuracy: 0.9879 - val_loss: 0.7495 - val_accuracy: 0.8169\n",
      "Epoch 46/150\n",
      "165/165 [==============================] - 0s 159us/step - loss: 0.2129 - accuracy: 0.9818 - val_loss: 0.7661 - val_accuracy: 0.7746\n",
      "Epoch 47/150\n",
      "165/165 [==============================] - 0s 159us/step - loss: 0.2067 - accuracy: 0.9879 - val_loss: 0.7774 - val_accuracy: 0.8028\n",
      "Epoch 48/150\n",
      "165/165 [==============================] - 0s 168us/step - loss: 0.2017 - accuracy: 0.9879 - val_loss: 0.7570 - val_accuracy: 0.8028\n",
      "Epoch 49/150\n",
      "165/165 [==============================] - 0s 157us/step - loss: 0.2002 - accuracy: 0.9818 - val_loss: 0.7800 - val_accuracy: 0.8028\n",
      "Epoch 50/150\n",
      "165/165 [==============================] - 0s 165us/step - loss: 0.1895 - accuracy: 0.9879 - val_loss: 0.8135 - val_accuracy: 0.7606\n",
      "Epoch 51/150\n",
      "165/165 [==============================] - 0s 160us/step - loss: 0.1825 - accuracy: 0.9879 - val_loss: 0.7926 - val_accuracy: 0.7606\n",
      "Epoch 52/150\n",
      "165/165 [==============================] - 0s 222us/step - loss: 0.1771 - accuracy: 0.9939 - val_loss: 0.7838 - val_accuracy: 0.7887\n",
      "Epoch 53/150\n",
      "165/165 [==============================] - 0s 201us/step - loss: 0.1731 - accuracy: 0.9879 - val_loss: 0.7967 - val_accuracy: 0.7746\n",
      "Epoch 54/150\n",
      "165/165 [==============================] - 0s 168us/step - loss: 0.1684 - accuracy: 0.9939 - val_loss: 0.7605 - val_accuracy: 0.7746\n",
      "Epoch 55/150\n",
      "165/165 [==============================] - 0s 179us/step - loss: 0.1630 - accuracy: 0.9939 - val_loss: 0.7603 - val_accuracy: 0.7746\n",
      "Epoch 56/150\n",
      "165/165 [==============================] - 0s 400us/step - loss: 0.1621 - accuracy: 0.9879 - val_loss: 0.7799 - val_accuracy: 0.7606\n"
     ]
    },
    {
     "name": "stdout",
     "output_type": "stream",
     "text": [
      "Epoch 57/150\n",
      "165/165 [==============================] - 0s 176us/step - loss: 0.1573 - accuracy: 0.9879 - val_loss: 0.7682 - val_accuracy: 0.8028\n",
      "Epoch 58/150\n",
      "165/165 [==============================] - 0s 236us/step - loss: 0.1542 - accuracy: 0.9939 - val_loss: 0.7930 - val_accuracy: 0.7746\n",
      "Epoch 59/150\n",
      "165/165 [==============================] - 0s 159us/step - loss: 0.1501 - accuracy: 0.9939 - val_loss: 0.8250 - val_accuracy: 0.7606\n",
      "Epoch 60/150\n",
      "165/165 [==============================] - 0s 165us/step - loss: 0.1495 - accuracy: 0.9939 - val_loss: 0.7939 - val_accuracy: 0.7606\n",
      "Epoch 61/150\n",
      "165/165 [==============================] - 0s 161us/step - loss: 0.1446 - accuracy: 0.9939 - val_loss: 0.8308 - val_accuracy: 0.7465\n",
      "Epoch 62/150\n",
      "165/165 [==============================] - 0s 164us/step - loss: 0.1414 - accuracy: 0.9939 - val_loss: 0.8490 - val_accuracy: 0.7465\n",
      "Epoch 63/150\n",
      "165/165 [==============================] - 0s 165us/step - loss: 0.1355 - accuracy: 0.9939 - val_loss: 0.8332 - val_accuracy: 0.7887\n",
      "Epoch 64/150\n",
      "165/165 [==============================] - 0s 160us/step - loss: 0.1339 - accuracy: 0.9879 - val_loss: 0.8428 - val_accuracy: 0.7746\n",
      "Epoch 65/150\n",
      "165/165 [==============================] - 0s 168us/step - loss: 0.1298 - accuracy: 0.9939 - val_loss: 0.8262 - val_accuracy: 0.7746\n",
      "Epoch 66/150\n",
      "165/165 [==============================] - 0s 165us/step - loss: 0.1256 - accuracy: 0.9939 - val_loss: 0.8292 - val_accuracy: 0.7746\n",
      "Epoch 67/150\n",
      "165/165 [==============================] - 0s 178us/step - loss: 0.1242 - accuracy: 0.9939 - val_loss: 0.8180 - val_accuracy: 0.7887\n",
      "Epoch 68/150\n",
      "165/165 [==============================] - 0s 189us/step - loss: 0.1207 - accuracy: 0.9939 - val_loss: 0.8065 - val_accuracy: 0.7746\n",
      "Epoch 69/150\n",
      "165/165 [==============================] - 0s 164us/step - loss: 0.1176 - accuracy: 0.9939 - val_loss: 0.8016 - val_accuracy: 0.7746\n",
      "Epoch 70/150\n",
      "165/165 [==============================] - 0s 169us/step - loss: 0.1175 - accuracy: 1.0000 - val_loss: 0.8147 - val_accuracy: 0.7887\n",
      "Epoch 71/150\n",
      "165/165 [==============================] - 0s 227us/step - loss: 0.1175 - accuracy: 0.9939 - val_loss: 0.8663 - val_accuracy: 0.7465\n",
      "Epoch 72/150\n",
      "165/165 [==============================] - 0s 179us/step - loss: 0.1132 - accuracy: 1.0000 - val_loss: 0.8462 - val_accuracy: 0.7746\n",
      "Epoch 73/150\n",
      "165/165 [==============================] - 0s 174us/step - loss: 0.1100 - accuracy: 1.0000 - val_loss: 0.8429 - val_accuracy: 0.7606\n",
      "Epoch 74/150\n",
      "165/165 [==============================] - 0s 159us/step - loss: 0.1080 - accuracy: 1.0000 - val_loss: 0.8883 - val_accuracy: 0.7606\n",
      "Epoch 75/150\n",
      "165/165 [==============================] - 0s 161us/step - loss: 0.1056 - accuracy: 0.9879 - val_loss: 0.9312 - val_accuracy: 0.7465\n",
      "Epoch 76/150\n",
      "165/165 [==============================] - 0s 150us/step - loss: 0.1047 - accuracy: 0.9879 - val_loss: 0.9092 - val_accuracy: 0.7887\n",
      "Epoch 77/150\n",
      "165/165 [==============================] - 0s 286us/step - loss: 0.1004 - accuracy: 0.9939 - val_loss: 0.8980 - val_accuracy: 0.7887\n",
      "Epoch 78/150\n",
      "165/165 [==============================] - 0s 271us/step - loss: 0.0975 - accuracy: 0.9939 - val_loss: 0.8833 - val_accuracy: 0.7887\n",
      "Epoch 79/150\n",
      "165/165 [==============================] - 0s 209us/step - loss: 0.0950 - accuracy: 0.9939 - val_loss: 0.8734 - val_accuracy: 0.7606\n",
      "Epoch 80/150\n",
      "165/165 [==============================] - 0s 160us/step - loss: 0.0931 - accuracy: 1.0000 - val_loss: 0.8874 - val_accuracy: 0.7465\n",
      "Epoch 81/150\n",
      "165/165 [==============================] - 0s 155us/step - loss: 0.0954 - accuracy: 0.9939 - val_loss: 0.9076 - val_accuracy: 0.7465\n",
      "Epoch 82/150\n",
      "165/165 [==============================] - 0s 171us/step - loss: 0.0910 - accuracy: 0.9939 - val_loss: 0.8693 - val_accuracy: 0.7887\n",
      "Epoch 83/150\n",
      "165/165 [==============================] - 0s 151us/step - loss: 0.0907 - accuracy: 1.0000 - val_loss: 0.9031 - val_accuracy: 0.7887\n",
      "Epoch 84/150\n",
      "165/165 [==============================] - 0s 159us/step - loss: 0.0870 - accuracy: 0.9939 - val_loss: 0.9097 - val_accuracy: 0.7746\n",
      "Epoch 85/150\n",
      "165/165 [==============================] - 0s 176us/step - loss: 0.0851 - accuracy: 0.9939 - val_loss: 0.9019 - val_accuracy: 0.7887\n",
      "Epoch 86/150\n",
      "165/165 [==============================] - 0s 164us/step - loss: 0.0848 - accuracy: 1.0000 - val_loss: 0.8879 - val_accuracy: 0.7606\n",
      "Epoch 87/150\n",
      "165/165 [==============================] - 0s 176us/step - loss: 0.0849 - accuracy: 1.0000 - val_loss: 0.8698 - val_accuracy: 0.7606\n",
      "Epoch 88/150\n",
      "165/165 [==============================] - 0s 205us/step - loss: 0.0809 - accuracy: 1.0000 - val_loss: 0.8894 - val_accuracy: 0.7746\n",
      "Epoch 89/150\n",
      "165/165 [==============================] - 0s 181us/step - loss: 0.0825 - accuracy: 0.9939 - val_loss: 0.9283 - val_accuracy: 0.7606\n",
      "Epoch 90/150\n",
      "165/165 [==============================] - 0s 186us/step - loss: 0.0807 - accuracy: 0.9939 - val_loss: 0.9037 - val_accuracy: 0.7887\n",
      "Epoch 91/150\n",
      "165/165 [==============================] - 0s 167us/step - loss: 0.0785 - accuracy: 1.0000 - val_loss: 0.9062 - val_accuracy: 0.7746\n",
      "Epoch 92/150\n",
      "165/165 [==============================] - 0s 177us/step - loss: 0.0800 - accuracy: 0.9939 - val_loss: 0.8933 - val_accuracy: 0.7746\n",
      "Epoch 93/150\n",
      "165/165 [==============================] - 0s 160us/step - loss: 0.0849 - accuracy: 1.0000 - val_loss: 0.8502 - val_accuracy: 0.8451\n",
      "Epoch 94/150\n",
      "165/165 [==============================] - 0s 224us/step - loss: 0.0812 - accuracy: 1.0000 - val_loss: 0.8770 - val_accuracy: 0.7746\n",
      "Epoch 95/150\n",
      "165/165 [==============================] - 0s 208us/step - loss: 0.0743 - accuracy: 1.0000 - val_loss: 0.8920 - val_accuracy: 0.7887\n",
      "Epoch 96/150\n",
      "165/165 [==============================] - 0s 232us/step - loss: 0.0750 - accuracy: 1.0000 - val_loss: 0.8963 - val_accuracy: 0.7887\n",
      "Epoch 97/150\n",
      "165/165 [==============================] - 0s 290us/step - loss: 0.0790 - accuracy: 0.9939 - val_loss: 0.9336 - val_accuracy: 0.7746\n",
      "Epoch 98/150\n",
      "165/165 [==============================] - 0s 171us/step - loss: 0.0724 - accuracy: 1.0000 - val_loss: 0.9767 - val_accuracy: 0.7465\n",
      "Epoch 99/150\n",
      "165/165 [==============================] - 0s 186us/step - loss: 0.0695 - accuracy: 1.0000 - val_loss: 0.9368 - val_accuracy: 0.7887\n",
      "Epoch 100/150\n",
      "165/165 [==============================] - 0s 167us/step - loss: 0.0672 - accuracy: 1.0000 - val_loss: 0.9235 - val_accuracy: 0.7887\n",
      "Epoch 101/150\n",
      "165/165 [==============================] - 0s 182us/step - loss: 0.0656 - accuracy: 1.0000 - val_loss: 0.9487 - val_accuracy: 0.7606\n",
      "Epoch 102/150\n",
      "165/165 [==============================] - 0s 170us/step - loss: 0.0655 - accuracy: 1.0000 - val_loss: 0.9427 - val_accuracy: 0.7606\n",
      "Epoch 103/150\n",
      "165/165 [==============================] - 0s 152us/step - loss: 0.0646 - accuracy: 1.0000 - val_loss: 0.9071 - val_accuracy: 0.7887\n",
      "Epoch 104/150\n",
      "165/165 [==============================] - 0s 163us/step - loss: 0.0655 - accuracy: 1.0000 - val_loss: 0.9336 - val_accuracy: 0.7746\n",
      "Epoch 105/150\n",
      "165/165 [==============================] - 0s 180us/step - loss: 0.0648 - accuracy: 1.0000 - val_loss: 0.9696 - val_accuracy: 0.7746\n",
      "Epoch 106/150\n",
      "165/165 [==============================] - 0s 157us/step - loss: 0.0646 - accuracy: 1.0000 - val_loss: 0.9668 - val_accuracy: 0.7606\n",
      "Epoch 107/150\n",
      "165/165 [==============================] - 0s 168us/step - loss: 0.0614 - accuracy: 1.0000 - val_loss: 0.9654 - val_accuracy: 0.7465\n",
      "Epoch 108/150\n",
      "165/165 [==============================] - 0s 178us/step - loss: 0.0604 - accuracy: 1.0000 - val_loss: 0.9233 - val_accuracy: 0.8028\n",
      "Epoch 109/150\n",
      "165/165 [==============================] - 0s 180us/step - loss: 0.0596 - accuracy: 1.0000 - val_loss: 0.9293 - val_accuracy: 0.7887\n",
      "Epoch 110/150\n",
      "165/165 [==============================] - 0s 185us/step - loss: 0.0600 - accuracy: 0.9939 - val_loss: 0.9311 - val_accuracy: 0.7887\n",
      "Epoch 111/150\n",
      "165/165 [==============================] - 0s 175us/step - loss: 0.0580 - accuracy: 1.0000 - val_loss: 0.9064 - val_accuracy: 0.7887\n",
      "Epoch 112/150\n",
      "165/165 [==============================] - 0s 161us/step - loss: 0.0573 - accuracy: 1.0000 - val_loss: 0.9218 - val_accuracy: 0.7887\n",
      "Epoch 113/150\n"
     ]
    },
    {
     "name": "stdout",
     "output_type": "stream",
     "text": [
      "165/165 [==============================] - 0s 163us/step - loss: 0.0570 - accuracy: 1.0000 - val_loss: 0.9515 - val_accuracy: 0.7887\n",
      "Epoch 114/150\n",
      "165/165 [==============================] - 0s 176us/step - loss: 0.0575 - accuracy: 1.0000 - val_loss: 0.9224 - val_accuracy: 0.8028\n",
      "Epoch 115/150\n",
      "165/165 [==============================] - 0s 181us/step - loss: 0.0569 - accuracy: 1.0000 - val_loss: 0.9563 - val_accuracy: 0.7746\n",
      "Epoch 116/150\n",
      "165/165 [==============================] - 0s 177us/step - loss: 0.0540 - accuracy: 1.0000 - val_loss: 0.9578 - val_accuracy: 0.7887\n",
      "Epoch 117/150\n",
      "165/165 [==============================] - 0s 188us/step - loss: 0.0546 - accuracy: 1.0000 - val_loss: 0.9447 - val_accuracy: 0.7887\n",
      "Epoch 118/150\n",
      "165/165 [==============================] - 0s 169us/step - loss: 0.0526 - accuracy: 1.0000 - val_loss: 0.9375 - val_accuracy: 0.7887\n",
      "Epoch 119/150\n",
      "165/165 [==============================] - 0s 156us/step - loss: 0.0521 - accuracy: 1.0000 - val_loss: 0.9560 - val_accuracy: 0.7746\n",
      "Epoch 120/150\n",
      "165/165 [==============================] - 0s 157us/step - loss: 0.0527 - accuracy: 1.0000 - val_loss: 0.9698 - val_accuracy: 0.7746\n",
      "Epoch 121/150\n",
      "165/165 [==============================] - 0s 157us/step - loss: 0.0509 - accuracy: 1.0000 - val_loss: 0.9284 - val_accuracy: 0.8169\n",
      "Epoch 122/150\n",
      "165/165 [==============================] - 0s 214us/step - loss: 0.0512 - accuracy: 1.0000 - val_loss: 0.9358 - val_accuracy: 0.7887\n",
      "Epoch 123/150\n",
      "165/165 [==============================] - 0s 172us/step - loss: 0.0494 - accuracy: 1.0000 - val_loss: 0.9481 - val_accuracy: 0.7887\n",
      "Epoch 124/150\n",
      "165/165 [==============================] - 0s 169us/step - loss: 0.0494 - accuracy: 1.0000 - val_loss: 0.9453 - val_accuracy: 0.7746\n",
      "Epoch 125/150\n",
      "165/165 [==============================] - 0s 187us/step - loss: 0.0492 - accuracy: 1.0000 - val_loss: 0.9251 - val_accuracy: 0.8028\n",
      "Epoch 126/150\n",
      "165/165 [==============================] - 0s 171us/step - loss: 0.0497 - accuracy: 1.0000 - val_loss: 0.9416 - val_accuracy: 0.8028\n",
      "Epoch 127/150\n",
      "165/165 [==============================] - 0s 174us/step - loss: 0.0483 - accuracy: 1.0000 - val_loss: 0.9255 - val_accuracy: 0.7746\n",
      "Epoch 128/150\n",
      "165/165 [==============================] - 0s 170us/step - loss: 0.0494 - accuracy: 1.0000 - val_loss: 0.9075 - val_accuracy: 0.8169\n",
      "Epoch 129/150\n",
      "165/165 [==============================] - 0s 158us/step - loss: 0.0480 - accuracy: 1.0000 - val_loss: 0.9071 - val_accuracy: 0.8028\n",
      "Epoch 130/150\n",
      "165/165 [==============================] - 0s 208us/step - loss: 0.0499 - accuracy: 1.0000 - val_loss: 0.9325 - val_accuracy: 0.7887\n",
      "Epoch 131/150\n",
      "165/165 [==============================] - 0s 170us/step - loss: 0.0485 - accuracy: 1.0000 - val_loss: 1.0221 - val_accuracy: 0.7606\n",
      "Epoch 132/150\n",
      "165/165 [==============================] - 0s 160us/step - loss: 0.0476 - accuracy: 1.0000 - val_loss: 0.9890 - val_accuracy: 0.7887\n",
      "Epoch 133/150\n",
      "165/165 [==============================] - 0s 160us/step - loss: 0.0472 - accuracy: 1.0000 - val_loss: 0.9526 - val_accuracy: 0.8028\n",
      "Epoch 134/150\n",
      "165/165 [==============================] - 0s 165us/step - loss: 0.0454 - accuracy: 1.0000 - val_loss: 0.9808 - val_accuracy: 0.7746\n",
      "Epoch 135/150\n",
      "165/165 [==============================] - 0s 167us/step - loss: 0.0448 - accuracy: 1.0000 - val_loss: 0.9710 - val_accuracy: 0.7746\n",
      "Epoch 136/150\n",
      "165/165 [==============================] - 0s 172us/step - loss: 0.0443 - accuracy: 1.0000 - val_loss: 0.9223 - val_accuracy: 0.8028\n",
      "Epoch 137/150\n",
      "165/165 [==============================] - 0s 170us/step - loss: 0.0464 - accuracy: 1.0000 - val_loss: 1.0012 - val_accuracy: 0.7606\n",
      "Epoch 138/150\n",
      "165/165 [==============================] - 0s 177us/step - loss: 0.0452 - accuracy: 1.0000 - val_loss: 0.9894 - val_accuracy: 0.7746\n",
      "Epoch 139/150\n",
      "165/165 [==============================] - 0s 196us/step - loss: 0.0431 - accuracy: 1.0000 - val_loss: 0.9688 - val_accuracy: 0.8028\n",
      "Epoch 140/150\n",
      "165/165 [==============================] - 0s 187us/step - loss: 0.0440 - accuracy: 1.0000 - val_loss: 0.9572 - val_accuracy: 0.8028\n",
      "Epoch 141/150\n",
      "165/165 [==============================] - 0s 183us/step - loss: 0.0425 - accuracy: 1.0000 - val_loss: 0.9808 - val_accuracy: 0.7746\n",
      "Epoch 142/150\n",
      "165/165 [==============================] - 0s 192us/step - loss: 0.0418 - accuracy: 1.0000 - val_loss: 0.9561 - val_accuracy: 0.7887\n",
      "Epoch 143/150\n",
      "165/165 [==============================] - 0s 170us/step - loss: 0.0414 - accuracy: 1.0000 - val_loss: 0.9604 - val_accuracy: 0.7887\n",
      "Epoch 144/150\n",
      "165/165 [==============================] - 0s 159us/step - loss: 0.0425 - accuracy: 1.0000 - val_loss: 0.9609 - val_accuracy: 0.7887\n",
      "Epoch 145/150\n",
      "165/165 [==============================] - 0s 182us/step - loss: 0.0402 - accuracy: 1.0000 - val_loss: 1.0094 - val_accuracy: 0.7746\n",
      "Epoch 146/150\n",
      "165/165 [==============================] - 0s 171us/step - loss: 0.0427 - accuracy: 1.0000 - val_loss: 0.9662 - val_accuracy: 0.7887\n",
      "Epoch 147/150\n",
      "165/165 [==============================] - 0s 167us/step - loss: 0.0405 - accuracy: 1.0000 - val_loss: 0.9471 - val_accuracy: 0.7887\n",
      "Epoch 148/150\n",
      "165/165 [==============================] - 0s 166us/step - loss: 0.0424 - accuracy: 1.0000 - val_loss: 1.0453 - val_accuracy: 0.7606\n",
      "Epoch 149/150\n",
      "165/165 [==============================] - 0s 158us/step - loss: 0.0445 - accuracy: 1.0000 - val_loss: 1.0854 - val_accuracy: 0.7606\n",
      "Epoch 150/150\n",
      "165/165 [==============================] - 0s 170us/step - loss: 0.0416 - accuracy: 1.0000 - val_loss: 0.9687 - val_accuracy: 0.7887\n",
      "\n",
      "Test loss: 0.7034529288609822\n",
      "\n",
      "Test accuracy: 0.800000011920929\n"
     ]
    }
   ],
   "source": [
    "history = model.fit(X_train, train_labels_enc, validation_split=0.3, epochs=150)  #you need at least like 300 epoch with a single-layer 10 neuron.\n",
    "test_loss, test_acc = model.evaluate(X_test,  test_labels_enc, verbose=2)\n",
    "print('\\nTest loss:', test_loss)  \n",
    "print('\\nTest accuracy:', test_acc)"
   ]
  },
  {
   "cell_type": "markdown",
   "metadata": {},
   "source": [
    "### Evaluate the results of the model."
   ]
  },
  {
   "cell_type": "markdown",
   "metadata": {},
   "source": [
    "The accuracy of the model increases as the iteration (Epoch) increases and the value loss decreases.\n",
    "The test loss is less than the test accuracy.\n",
    "The test loss is high because the data set is small"
   ]
  },
  {
   "cell_type": "markdown",
   "metadata": {},
   "source": [
    "### Print the model.summary(). For the dense_1 layer, verify the number of parameters (Param #) is correct. "
   ]
  },
  {
   "cell_type": "code",
   "execution_count": 9,
   "metadata": {},
   "outputs": [
    {
     "name": "stdout",
     "output_type": "stream",
     "text": [
      "Model: \"sequential_1\"\n",
      "_________________________________________________________________\n",
      "Layer (type)                 Output Shape              Param #   \n",
      "=================================================================\n",
      "dense_1 (Dense)              (None, 128)               1792      \n",
      "_________________________________________________________________\n",
      "activation_1 (Activation)    (None, 128)               0         \n",
      "_________________________________________________________________\n",
      "dense_2 (Dense)              (None, 128)               16512     \n",
      "_________________________________________________________________\n",
      "activation_2 (Activation)    (None, 128)               0         \n",
      "_________________________________________________________________\n",
      "dense_3 (Dense)              (None, 2)                 258       \n",
      "_________________________________________________________________\n",
      "activation_3 (Activation)    (None, 2)                 0         \n",
      "=================================================================\n",
      "Total params: 18,562\n",
      "Trainable params: 18,562\n",
      "Non-trainable params: 0\n",
      "_________________________________________________________________\n"
     ]
    }
   ],
   "source": [
    "model.summary()"
   ]
  },
  {
   "cell_type": "markdown",
   "metadata": {},
   "source": [
    "for dense 1 layer,\n",
    "\n",
    "output = 128\n",
    "input = 13\n",
    "\n",
    "param # = (output * input + output * b)\n",
    "\n",
    "param # = (128 *13) + 128 *1\n",
    "\n",
    "param # = 1664 + 128 = 1792"
   ]
  },
  {
   "cell_type": "markdown",
   "metadata": {},
   "source": [
    "### Plot the training cross_entropy loss, the training accuracy with the number of epoch (full iterations over dataset) in the data."
   ]
  },
  {
   "cell_type": "code",
   "execution_count": 10,
   "metadata": {},
   "outputs": [
    {
     "name": "stdout",
     "output_type": "stream",
     "text": [
      "dict_keys(['val_loss', 'val_accuracy', 'loss', 'accuracy'])\n"
     ]
    },
    {
     "data": {
      "text/plain": [
       "<matplotlib.legend.Legend at 0x1a3d767dd8>"
      ]
     },
     "execution_count": 10,
     "metadata": {},
     "output_type": "execute_result"
    },
    {
     "data": {
      "image/png": "[encoded data removed]",
      "text/plain": [
       "<Figure size 432x288 with 1 Axes>"
      ]
     },
     "metadata": {
      "needs_background": "light"
     },
     "output_type": "display_data"
    }
   ],
   "source": [
    "print(history.history.keys())\n",
    "#Plot it - we can see \"convergence\" or \"not yet...weights are changing a lot still, loss still can go lower\"\n",
    "plt.plot(history.history['accuracy'])\n",
    "plt.plot(history.history['val_accuracy'])  #if validation_split>0\n",
    "plt.title('Model TRAIN accuracy')\n",
    "plt.ylabel('Accuracy')\n",
    "plt.xlabel('Epoch')\n",
    "plt.legend(['Train', 'Val'], loc='upper left')"
   ]
  },
  {
   "cell_type": "code",
   "execution_count": 11,
   "metadata": {
    "scrolled": true
   },
   "outputs": [
    {
     "data": {
      "image/png": "[encoded data removed]",
      "text/plain": [
       "<Figure size 432x288 with 1 Axes>"
      ]
     },
     "metadata": {
      "needs_background": "light"
     },
     "output_type": "display_data"
    }
   ],
   "source": [
    "# Plot training & validation loss values\n",
    "plt.figure()\n",
    "plt.plot(history.history['loss'])\n",
    "plt.plot(history.history['val_loss']) #if validation_split>0\n",
    "plt.title('Model TRAIN loss')\n",
    "plt.ylabel('Loss')\n",
    "plt.xlabel('Epoch')\n",
    "plt.legend(['Train', 'Val'], loc='upper left')\n",
    "plt.show()"
   ]
  },
  {
   "cell_type": "markdown",
   "metadata": {},
   "source": [
    "### What is the final accuracy and loss on the test set with parameters from "
   ]
  },
  {
   "cell_type": "code",
   "execution_count": 12,
   "metadata": {},
   "outputs": [
    {
     "name": "stdout",
     "output_type": "stream",
     "text": [
      "\n",
      "Test loss: 0.7034529288609822\n",
      "\n",
      "Test accuracy: 0.800000011920929\n"
     ]
    }
   ],
   "source": [
    "print('\\nTest loss:', test_loss)  \n",
    "print('\\nTest accuracy:', test_acc)"
   ]
  },
  {
   "cell_type": "markdown",
   "metadata": {},
   "source": [
    "### Output probabilities and diagnosis of a patient with the following 13 attributes (standardize the data first):\n",
    "<b/>i. X_patient = [57,0,1,130,236,0,0,174,0,0,1,1,2]\n",
    "ii. X_patient = [56,1,0,112,233,0,1,123,1,2.8,1,1,3]"
   ]
  },
  {
   "cell_type": "markdown",
   "metadata": {},
   "source": [
    "#### i. X_patient = [57,0,1,130,236,0,0,174,0,0,1,1,2]"
   ]
  },
  {
   "cell_type": "code",
   "execution_count": 13,
   "metadata": {},
   "outputs": [
    {
     "name": "stdout",
     "output_type": "stream",
     "text": [
      "[[0.00104994 0.99895006]]\n"
     ]
    }
   ],
   "source": [
    "X_patient = np.array([57,0,1,130,236,0,0,174,0,0,1,1,2]).reshape(1,-1)\n",
    "X_patient_test = sc.transform(X_patient)\n",
    "y_pred = model.predict_proba(X_patient_test)\n",
    "print(y_pred)\n"
   ]
  },
  {
   "cell_type": "markdown",
   "metadata": {},
   "source": [
    "#### ii. X_patient2 = [56,1,0,112,233,0,1,123,1,2.8,1,1,3]"
   ]
  },
  {
   "cell_type": "code",
   "execution_count": 14,
   "metadata": {},
   "outputs": [
    {
     "name": "stdout",
     "output_type": "stream",
     "text": [
      "[[9.999901e-01 9.856961e-06]]\n"
     ]
    }
   ],
   "source": [
    "X_patient2 = np.array([56,1,0,112,233,0,1,123,1,2.8,1,1,3]).reshape(1,-1)\n",
    "X_patient_test2 = sc.transform(X_patient2)\n",
    "y_pred2= model.predict_proba(X_patient_test2)\n",
    "print(y_pred2)\n",
    "\n"
   ]
  },
  {
   "cell_type": "markdown",
   "metadata": {},
   "source": [
    "### Parameters that are modifiable to the analyst in a standard neural network?\n",
    "\n"
   ]
  },
  {
   "cell_type": "markdown",
   "metadata": {},
   "source": [
    "The number of layers\n",
    "The number of neurons\n",
    "The optimizer could be adam, stochastic gradient descent\n",
    "Regularization can be done to prevent overfitting\n",
    "The activation function can also be changed\n"
   ]
  },
  {
   "cell_type": "markdown",
   "metadata": {},
   "source": [
    "## Learning with Support Vector Machine"
   ]
  },
  {
   "cell_type": "markdown",
   "metadata": {},
   "source": [
    "### Data preprocessing: use the same standardized attributes as inputs to the SVM"
   ]
  },
  {
   "cell_type": "code",
   "execution_count": 15,
   "metadata": {},
   "outputs": [
    {
     "name": "stdout",
     "output_type": "stream",
     "text": [
      "train set:(236, 13)\n",
      "\n",
      "test set:(60, 13)\n",
      "The train set is\n",
      " [[ 0.81598378  0.6758625  -0.01602721 -0.18288705 -0.73990468  2.52487623\n",
      "  -0.93670306 -0.41721897 -0.66921802 -0.91457718  0.95559244 -0.73688146\n",
      "  -0.50535408]\n",
      " [ 1.03695013  0.6758625  -0.96163231 -0.18288705  0.30879184 -0.39605902\n",
      "   0.96900317 -1.96122825  1.49428134 -0.73515888 -0.65526339  0.33660017\n",
      "   1.17441441]]\n",
      "\n",
      "The test set is \n",
      " [[-0.39933113  0.6758625  -0.96163231  0.52178796  0.99521139 -0.39605902\n",
      "   0.96900317  1.03856121  1.49428134  0.52076922  0.95559244 -0.73688146\n",
      "   1.17441441]\n",
      " [ 1.03695013  0.6758625  -0.96163231 -0.6526704  -0.01535072 -0.39605902\n",
      "  -0.93670306 -2.35825921  1.49428134  1.05902411 -2.26611922  0.33660017\n",
      "  -0.50535408]]\n"
     ]
    }
   ],
   "source": [
    "##split X and Y into train and test set\n",
    "\n",
    "X_train1, X_test1, y_train1, y_test1 = train_test_split(X, Y, test_size=0.2, random_state=0)\n",
    "\n",
    "print ( 'train set:' +str (X_train1.shape) +'\\n' '\\n'+  'test set:' +str(X_test1.shape))\n",
    "\n",
    "\n",
    "\n",
    "## standardize the continuous attributes\n",
    "sc = ss()\n",
    "X_train1 = sc.fit_transform(X_train1)  #note this also transforms and fits the model.\n",
    "X_test1 = sc.transform(X_test1)\n",
    "print ('The train set is\\n', X_train1[0:2])\n",
    "print ()\n",
    "print ('The test set is \\n', X_test1[0:2])"
   ]
  },
  {
   "cell_type": "markdown",
   "metadata": {},
   "source": [
    "### Implement the Support Vector Machine Classifier:\n",
    "<b/>a. Use a nonlinear SVM with a radial basis function kernel (gamma='scale', kernel='rbf', probabilities=True)\n",
    "<br/>b. Fit (train) the model using the training data\n",
    "<br/>c. Evaluate the results of the model"
   ]
  },
  {
   "cell_type": "markdown",
   "metadata": {},
   "source": [
    "### a. Use a nonlinear SVM with a radial basis function kernel (gamma='scale', kernel='rbf', probabilities=True)"
   ]
  },
  {
   "cell_type": "code",
   "execution_count": 16,
   "metadata": {
    "scrolled": true
   },
   "outputs": [],
   "source": [
    "svm_classifier = svm.SVC(gamma='scale',kernel='rbf', probability=True) \n"
   ]
  },
  {
   "cell_type": "markdown",
   "metadata": {},
   "source": [
    "### b. Fit (train) the model using the training data"
   ]
  },
  {
   "cell_type": "code",
   "execution_count": 17,
   "metadata": {
    "scrolled": false
   },
   "outputs": [
    {
     "data": {
      "text/plain": [
       "SVC(C=1.0, cache_size=200, class_weight=None, coef0=0.0,\n",
       "    decision_function_shape='ovr', degree=3, gamma='scale', kernel='rbf',\n",
       "    max_iter=-1, probability=True, random_state=None, shrinking=True, tol=0.001,\n",
       "    verbose=False)"
      ]
     },
     "execution_count": 17,
     "metadata": {},
     "output_type": "execute_result"
    }
   ],
   "source": [
    "svm_classifier.fit(X_train1, y_train1) "
   ]
  },
  {
   "cell_type": "code",
   "execution_count": 18,
   "metadata": {
    "scrolled": true
   },
   "outputs": [
    {
     "data": {
      "text/plain": [
       "(236, 13)"
      ]
     },
     "execution_count": 18,
     "metadata": {},
     "output_type": "execute_result"
    }
   ],
   "source": [
    "X_train1.shape"
   ]
  },
  {
   "cell_type": "code",
   "execution_count": 19,
   "metadata": {},
   "outputs": [
    {
     "data": {
      "text/plain": [
       "(236,)"
      ]
     },
     "execution_count": 19,
     "metadata": {},
     "output_type": "execute_result"
    }
   ],
   "source": [
    "y_train1.shape"
   ]
  },
  {
   "cell_type": "code",
   "execution_count": 20,
   "metadata": {},
   "outputs": [
    {
     "name": "stdout",
     "output_type": "stream",
     "text": [
      "[0. 0. 1. 0. 0. 1. 0. 1. 0. 1. 1. 1. 1. 1. 1. 0. 0. 0. 1. 0.]\n",
      "[0. 0. 1. 0. 0. 1. 0. 1. 0. 1. 0. 1. 1. 0. 1. 0. 0. 0. 1. 1.]\n"
     ]
    }
   ],
   "source": [
    "#predict class of test data\n",
    "y_pred3 = svm_classifier.predict(X_test1) \n",
    "print(y_pred3[0:20])\n",
    "print(y_test1[0:20])  "
   ]
  },
  {
   "cell_type": "markdown",
   "metadata": {},
   "source": [
    "### c. Evaluate the results of the model."
   ]
  },
  {
   "cell_type": "code",
   "execution_count": 21,
   "metadata": {},
   "outputs": [
    {
     "name": "stdout",
     "output_type": "stream",
     "text": [
      "Number of mislabeled points out of a total 60 points : 10\n"
     ]
    }
   ],
   "source": [
    "print(\"Number of mislabeled points out of a total %d points : %d\"\n",
    "      % (y_test1.shape[0],(y_test1 != y_pred3).sum()))"
   ]
  },
  {
   "cell_type": "markdown",
   "metadata": {},
   "source": [
    "The model has 10 misplaced points"
   ]
  },
  {
   "cell_type": "markdown",
   "metadata": {},
   "source": [
    "### 3. Analysis\n"
   ]
  },
  {
   "cell_type": "markdown",
   "metadata": {},
   "source": [
    "#### a. What is the accuracy on the training and test set with parameters from [2. Implement the Support Vector Machine Classifier]?"
   ]
  },
  {
   "cell_type": "code",
   "execution_count": 22,
   "metadata": {},
   "outputs": [
    {
     "name": "stdout",
     "output_type": "stream",
     "text": [
      "\n",
      "Accuracy for training set for SVM = 0.923728813559322\n",
      "Accuracy for test set for SVM = 0.8333333333333334\n"
     ]
    }
   ],
   "source": [
    "cm_test = confusion_matrix(y_pred3, y_test1)\n",
    "\n",
    "y_pred_train = svm_classifier.predict(X_train1)\n",
    "cm_train = confusion_matrix(y_pred_train, y_train1)\n",
    "\n",
    "print()\n",
    "print('Accuracy for training set for SVM = {}'.format((np.trace(cm_train))/len(y_train1)))\n",
    "print('Accuracy for test set for SVM = {}'.format((np.trace(cm_test))/len(y_test1)))\n",
    "# print(cm_test)"
   ]
  },
  {
   "cell_type": "markdown",
   "metadata": {},
   "source": [
    "#### b. Change the SVM to kernel=’linear’, and ‘poly’ and report the training and test accuracy and confusion matrices. "
   ]
  },
  {
   "cell_type": "code",
   "execution_count": 23,
   "metadata": {},
   "outputs": [
    {
     "name": "stdout",
     "output_type": "stream",
     "text": [
      "\n",
      "\n",
      "Accuracy for training set for SVM when kernel is linear= 0.8728813559322034\n",
      "The confusion matrix when kernel is linear\n",
      " [[ 85  11]\n",
      " [ 19 121]]\n",
      "Accuracy for test set for SVM when kernel is linear= 0.8666666666666667\n",
      "The confusion matrix when kernel is linear\n",
      " [[26  2]\n",
      " [ 6 26]]\n",
      "\n",
      "\n",
      "Accuracy for training set for SVM when kernel is poly= 0.9152542372881356\n",
      "The confusion matrix when kernel is poly\n",
      " [[ 87   3]\n",
      " [ 17 129]]\n",
      "Accuracy for test set for SVM when kernel is poly= 0.8\n",
      "The confusion matrix when kernel is poly\n",
      " [[23  3]\n",
      " [ 9 25]]\n"
     ]
    }
   ],
   "source": [
    "kernel = ['linear', 'poly']\n",
    "\n",
    "for k in kernel:\n",
    "    svm_classifier = svm.SVC(gamma='scale',kernel= k, probability=True)\n",
    "    svm_classifier.fit(X_train1, y_train1) \n",
    "    \n",
    "    y_pred4 = svm_classifier.predict(X_test1) \n",
    "    cm_test2 = confusion_matrix(y_pred4, y_test1)\n",
    "    \n",
    "    y_pred_train = svm_classifier.predict(X_train1)\n",
    "    cm_train2 = confusion_matrix(y_pred_train, y_train1)\n",
    "\n",
    "    print()\n",
    "    print ()\n",
    "    print('Accuracy for training set for SVM when kernel is {}= {}' .format(k, (np.trace(cm_train2))/len(y_train1)))\n",
    "    print ('The confusion matrix when kernel is '+k +'\\n' , cm_train2  )\n",
    "   \n",
    "    print('Accuracy for test set for SVM when kernel is {}= {}'.format(k,(np.trace(cm_test2))/len(y_test1)))\n",
    "    print('The confusion matrix when kernel is '+k +'\\n' , cm_test2)\n",
    "    \n",
    "    "
   ]
  },
  {
   "cell_type": "markdown",
   "metadata": {},
   "source": [
    "### c. Using the ‘rbf’, ‘linear’, and ‘poly’ kernel, Determine the output probabilities and diagnosis of a patient with the following 13 attributes (standardize the data first):\n",
    "<b/>i. X_patient = [57,0,1,130,236,0,0,174,0,0,1,1,2]\n",
    "<br/>ii. X_patient = [56,1,0,112,233,0,1,123,1,2.8,1,1,3]"
   ]
  },
  {
   "cell_type": "markdown",
   "metadata": {},
   "source": [
    "#### i. X_patient = [57,0,1,130,236,0,0,174,0,0,1,1,2] "
   ]
  },
  {
   "cell_type": "code",
   "execution_count": 24,
   "metadata": {},
   "outputs": [],
   "source": [
    "X_patient = np.array([[57,0,1,130,236,0,0,174,0,0,1,1,2]])  \n",
    "X_patient_std = sc.transform(X_patient).reshape(1,-1)\n"
   ]
  },
  {
   "cell_type": "code",
   "execution_count": 25,
   "metadata": {},
   "outputs": [
    {
     "name": "stdout",
     "output_type": "stream",
     "text": [
      "\n",
      "probability of X_patient when the kernel is rbf\n",
      " [[0.09720444 0.90279556]]\n",
      "\n",
      "probability of X_patient when the kernel is linear\n",
      " [[0.15548813 0.84451187]]\n",
      "\n",
      "probability of X_patient when the kernel is poly\n",
      " [[0.21553511 0.78446489]]\n"
     ]
    }
   ],
   "source": [
    "kernel = ['rbf', 'linear', 'poly']\n",
    "\n",
    "for k in kernel:\n",
    "    svm_classifier = svm.SVC(gamma='scale',kernel= k, probability=True)\n",
    "    svm_classifier.fit(X_train1, y_train1) \n",
    "    \n",
    "    print()\n",
    "    probability = svm_classifier.predict_proba(X_patient_std)\n",
    "    print('probability of X_patient when the kernel is ' +k + '\\n', probability) "
   ]
  },
  {
   "cell_type": "markdown",
   "metadata": {},
   "source": [
    "#### ii. X_patient2 = [56,1,0,112,233,0,1,123,1,2.8,1,1,3]"
   ]
  },
  {
   "cell_type": "code",
   "execution_count": 26,
   "metadata": {},
   "outputs": [],
   "source": [
    "X_patient2 = np.array([[56,1,0,112,233,0,1,123,1,2.8,1,1,3]])  \n",
    "X_patient_std2 = sc.transform(X_patient2).reshape(1,-1)"
   ]
  },
  {
   "cell_type": "code",
   "execution_count": 27,
   "metadata": {},
   "outputs": [
    {
     "name": "stdout",
     "output_type": "stream",
     "text": [
      "\n",
      "probability of X_patient2 when the kernel is rbf\n",
      " [[0.9707278 0.0292722]]\n",
      "\n",
      "probability of X_patient2 when the kernel is linear\n",
      " [[0.94990018 0.05009982]]\n",
      "\n",
      "probability of X_patient2 when the kernel is poly\n",
      " [[0.93461595 0.06538405]]\n"
     ]
    }
   ],
   "source": [
    "kernel = ['rbf', 'linear', 'poly']\n",
    "\n",
    "for k in kernel:\n",
    "    svm_classifier = svm.SVC(gamma='scale',kernel= k, probability=True)\n",
    "    svm_classifier.fit(X_train1, y_train1) \n",
    "    \n",
    "    print()\n",
    "    probability = svm_classifier.predict_proba(X_patient_std2)\n",
    "    print('probability of X_patient2 when the kernel is ' +k + '\\n', probability) "
   ]
  },
  {
   "cell_type": "markdown",
   "metadata": {},
   "source": [
    "## Part III. Time series classification: Data exploration and Learning with Neural Network"
   ]
  },
  {
   "cell_type": "markdown",
   "metadata": {},
   "source": [
    "### 1. Data Exploration and Visualization: When starting with an unfamiliar dataset it helps to visualize the training data, explore patterns to help discriminate any labelled classes. \n"
   ]
  },
  {
   "cell_type": "code",
   "execution_count": 28,
   "metadata": {},
   "outputs": [],
   "source": [
    "from scipy.io import loadmat\n",
    "import numpy as np\n",
    "import matplotlib.pyplot as plt"
   ]
  },
  {
   "cell_type": "code",
   "execution_count": 29,
   "metadata": {},
   "outputs": [
    {
     "name": "stdout",
     "output_type": "stream",
     "text": [
      "dict_keys(['__header__', '__version__', '__globals__', 'body_gyro_x_train', 'body_gyro_y_train', 'body_gyro_z_train', 'total_acc_x_train', 'total_acc_y_train', 'total_acc_z_train', 'None', '__function_workspace__'])\n",
      "<class 'numpy.ndarray'> (7352, 128)\n",
      "gyroscope x training data shape (7352, 128)\n"
     ]
    },
    {
     "data": {
      "text/plain": [
       "array([[ 0.1029341 ,  0.1056872 ,  0.1021025 , ...,  0.1003852 ,\n",
       "         0.09987355,  0.09498741],\n",
       "       [ 0.09792958,  0.09935086,  0.09811381, ...,  0.0935352 ,\n",
       "         0.08903516,  0.09061235],\n",
       "       [ 0.09111667,  0.0926756 ,  0.09606378, ...,  0.08301135,\n",
       "         0.08233391,  0.08148748],\n",
       "       ...,\n",
       "       [ 0.1745865 ,  0.2324243 ,  0.2576066 , ...,  0.1112952 ,\n",
       "         0.1263023 ,  0.1886212 ],\n",
       "       [ 0.262814  ,  0.2954154 ,  0.3376098 , ...,  0.1289247 ,\n",
       "         0.1722512 ,  0.2100712 ],\n",
       "       [ 0.2093865 ,  0.2310711 ,  0.3341906 , ..., -0.156105  ,\n",
       "        -0.1227979 , -0.08357159]])"
      ]
     },
     "execution_count": 29,
     "metadata": {},
     "output_type": "execute_result"
    }
   ],
   "source": [
    "##load the train data set\n",
    "mat = loadmat('./Desktop/DataSet/rawSensorData_train.mat')\n",
    "print(mat.keys())  # Table 3\n",
    "print(type(mat['body_gyro_x_train']),mat['body_gyro_x_train'].shape)\n",
    "bx = mat['body_gyro_x_train']  # this is a numpy array\n",
    "print('gyroscope x training data shape', bx.shape) #7352,128\n",
    "mat[\"total_acc_z_train\"]"
   ]
  },
  {
   "cell_type": "code",
   "execution_count": 30,
   "metadata": {},
   "outputs": [
    {
     "name": "stdout",
     "output_type": "stream",
     "text": [
      "dict_keys(['__header__', '__version__', '__globals__', 'body_gyro_x_test', 'body_gyro_y_test', 'body_gyro_z_test', 'total_acc_x_test', 'total_acc_y_test', 'total_acc_z_test', 'None', '__function_workspace__'])\n",
      "accelerometer x test data shape (2947, 128)\n"
     ]
    }
   ],
   "source": [
    "##load test data set\n",
    "mat3 = loadmat('./Desktop/DataSet/rawSensorData_test.mat')\n",
    "print (mat3.keys())\n",
    "ax_t = mat3['total_acc_x_test']\n",
    "print('accelerometer x test data shape', ax_t.shape)"
   ]
  },
  {
   "cell_type": "code",
   "execution_count": 31,
   "metadata": {},
   "outputs": [
    {
     "name": "stdout",
     "output_type": "stream",
     "text": [
      "train label shape (7352, 1)\n"
     ]
    }
   ],
   "source": [
    "#obtain the labels. [laying, sitting, climbingstairs, standing, walking] from 1 to 5.\n",
    "mat2 = loadmat('./Desktop/DataSet/labels.mat')\n",
    "train_labels = mat2['train_labels']\n",
    "test_labels = mat2['test_labels']\n",
    "\n",
    "print('train label shape', train_labels.shape)\n",
    "#encode/transform so the class starts at 0 to 4 rather than 1 to 5.\n",
    "dict = {1:0,2:1,3:2,4:3,5:4}\n",
    "train_labels = np.vectorize(dict.get)(train_labels)\n",
    "test_labels = np.vectorize(dict.get)(test_labels)\n",
    "# print(test_labels.shape)"
   ]
  },
  {
   "cell_type": "markdown",
   "metadata": {},
   "source": [
    "###  Raw time series: Select and make subplots for one training sample of the accelerometer x (128 readings per sample) from each of the 5 classes. "
   ]
  },
  {
   "cell_type": "code",
   "execution_count": 32,
   "metadata": {},
   "outputs": [
    {
     "data": {
      "image/png": "[encoded data removed]",
      "text/plain": [
       "<Figure size 432x288 with 1 Axes>"
      ]
     },
     "metadata": {
      "needs_background": "light"
     },
     "output_type": "display_data"
    }
   ],
   "source": [
    "\n",
    "#visualize what one sample looks like, with class label\n",
    "plt.plot(bx[0,:])\n",
    "plt.title(['first sample with transformed label=',train_labels[0]])\n",
    "plt.show()"
   ]
  },
  {
   "cell_type": "markdown",
   "metadata": {},
   "source": [
    "### Statistical features: Reduce the 128-dimensional attribute into a simple 2-feature input.\n",
    "<b/>i. Use numpy.mean and numpy.std to obtain the mean and standard deviation for each sample.\n",
    "<br/>ii. Visualize in 3D, the mean acceleration in (x,y,z) and color-code each sample with the corresponding label. In other words, plot the 7352 points using 3 features (mean_x, mean_y, mean_z)."
   ]
  },
  {
   "cell_type": "markdown",
   "metadata": {},
   "source": [
    "#### i. Use numpy.mean and numpy.std to obtain the mean and standard deviation for each sample. "
   ]
  },
  {
   "cell_type": "code",
   "execution_count": 33,
   "metadata": {
    "scrolled": true
   },
   "outputs": [
    {
     "name": "stdout",
     "output_type": "stream",
     "text": [
      "The mean is \n",
      " [ 0.02225035  0.01192576 -0.00414954 ... -0.19133331 -0.39039633\n",
      " -0.01457843]\n",
      "The standard deviation is \n",
      " [0.01443409 0.01633397 0.02225643 ... 0.54099643 0.41003567 0.47769263]\n"
     ]
    }
   ],
   "source": [
    "\n",
    "print ('The mean is \\n', np.mean(bx, axis=1))\n",
    "print ('The standard deviation is \\n', np.std(bx, axis=1))\n"
   ]
  },
  {
   "cell_type": "code",
   "execution_count": 34,
   "metadata": {},
   "outputs": [],
   "source": [
    "features1 = ['total_acc_x_train', 'total_acc_y_train', 'total_acc_z_train']\n",
    "\n",
    "features2 = ['body_gyro_x_train', 'body_gyro_y_train', 'body_gyro_z_train']\n",
    "\n",
    "dd=np.zeros((len(mat['total_acc_x_train']), len(features1)*4))\n",
    "\n",
    "adj=0            \n",
    "for i,feat_name in enumerate (features1):\n",
    "    feat = mat[feat_name]  # this is a numpy array\n",
    "    dd[:,i]=np.mean(feat,axis=1)\n",
    "\n",
    "adj+=len(features1)\n",
    "for ii, feat in enumerate(features1):\n",
    "    feat = mat[feat]\n",
    "    dd[:,adj+ii]=np.std (feat,axis =1)\n",
    "\n",
    "adj+=len(features1)    \n",
    "for i,feat_name in enumerate (features2):\n",
    "    feat = mat[feat_name]  # this is a numpy array\n",
    "    dd[:,adj+i]=np.mean(feat,axis=1)\n",
    "\n",
    "adj+=len(features1)\n",
    "for ii, feat in enumerate(features2):\n",
    "    feat = mat[feat]\n",
    "    dd[:,adj+ii]=np.std (feat,axis =1)"
   ]
  },
  {
   "cell_type": "code",
   "execution_count": 35,
   "metadata": {},
   "outputs": [
    {
     "data": {
      "text/plain": [
       "True"
      ]
     },
     "execution_count": 35,
     "metadata": {},
     "output_type": "execute_result"
    }
   ],
   "source": [
    "np.equal(dd[:,0],np.array(mat['total_acc_x_train']).mean(axis=1)).all()\n"
   ]
  },
  {
   "cell_type": "code",
   "execution_count": 36,
   "metadata": {
    "scrolled": true
   },
   "outputs": [
    {
     "name": "stdout",
     "output_type": "stream",
     "text": [
      "(7352, 12)\n"
     ]
    }
   ],
   "source": [
    "print(dd.shape)"
   ]
  },
  {
   "cell_type": "code",
   "execution_count": 37,
   "metadata": {},
   "outputs": [
    {
     "name": "stdout",
     "output_type": "stream",
     "text": [
      "[[ 1.01930457e+00 -1.24261873e-01  9.97317946e-02  1.79055618e-03\n",
      "   3.26999813e-03  3.96959918e-03  2.22503516e-02  1.94027691e-02\n",
      "   9.46815437e-03  1.44340889e-02  1.98283660e-02  5.94323814e-03]\n",
      " [ 1.01944797e+00 -1.22935570e-01  9.69394779e-02  1.93191244e-03\n",
      "   4.93012208e-03  4.91848707e-03  1.19257552e-02 -4.31374182e-03\n",
      "   6.30757117e-03  1.63339655e-02  1.03560622e-02  7.43068819e-03]\n",
      " [ 1.01992651e+00 -1.24996781e-01  9.28967964e-02  2.90398512e-03\n",
      "   6.45955616e-03  6.14495901e-03 -4.14954219e-03 -1.26400270e-02\n",
      "   4.33476421e-03  2.22564314e-02  6.92012454e-03  8.75341480e-03]\n",
      " [ 1.02034905e+00 -1.30492711e-01  8.76539177e-02  2.57413966e-03\n",
      "   4.02879253e-03  4.94506251e-03 -1.62283778e-02 -7.69651570e-03\n",
      "  -3.51901152e-04  9.16504949e-03  7.79282864e-03  8.18648126e-03]\n",
      " [ 1.02025534e+00 -1.30208887e-01  8.49988736e-02  1.94864962e-03\n",
      "   3.87590885e-03  3.63670927e-03 -6.48257872e-03 -1.66435530e-04\n",
      "  -3.95709159e-03  1.45439892e-02  7.81509270e-03  8.25995203e-03]]\n"
     ]
    }
   ],
   "source": [
    "print(dd[0:5])"
   ]
  },
  {
   "cell_type": "markdown",
   "metadata": {},
   "source": [
    "#### ii. Visualize in 3D, the mean acceleration in (x,y,z) and color-code each sample with the corresponding label. In other words, plot the 7352 points using 3 features (mean_x, mean_y, mean_z)."
   ]
  },
  {
   "cell_type": "code",
   "execution_count": 38,
   "metadata": {},
   "outputs": [
    {
     "data": {
      "text/html": [
       "<div>\n",
       "<style scoped>\n",
       "    .dataframe tbody tr th:only-of-type {\n",
       "        vertical-align: middle;\n",
       "    }\n",
       "\n",
       "    .dataframe tbody tr th {\n",
       "        vertical-align: top;\n",
       "    }\n",
       "\n",
       "    .dataframe thead th {\n",
       "        text-align: right;\n",
       "    }\n",
       "</style>\n",
       "<table border=\"1\" class=\"dataframe\">\n",
       "  <thead>\n",
       "    <tr style=\"text-align: right;\">\n",
       "      <th></th>\n",
       "      <th>mean(ax)</th>\n",
       "      <th>mean(ay)</th>\n",
       "      <th>mean(az)</th>\n",
       "      <th>std(ax)</th>\n",
       "      <th>std(ay)</th>\n",
       "      <th>std(az)</th>\n",
       "      <th>mean(bx)</th>\n",
       "      <th>mean(by)</th>\n",
       "      <th>mean(bz)</th>\n",
       "      <th>std(bx)</th>\n",
       "      <th>std(by)</th>\n",
       "      <th>std(bz)</th>\n",
       "      <th>target</th>\n",
       "    </tr>\n",
       "  </thead>\n",
       "  <tbody>\n",
       "    <tr>\n",
       "      <th>0</th>\n",
       "      <td>1.019305</td>\n",
       "      <td>-0.124262</td>\n",
       "      <td>0.099732</td>\n",
       "      <td>0.001791</td>\n",
       "      <td>0.003270</td>\n",
       "      <td>0.003970</td>\n",
       "      <td>0.022250</td>\n",
       "      <td>0.019403</td>\n",
       "      <td>0.009468</td>\n",
       "      <td>0.014434</td>\n",
       "      <td>0.019828</td>\n",
       "      <td>0.005943</td>\n",
       "      <td>3</td>\n",
       "    </tr>\n",
       "    <tr>\n",
       "      <th>1</th>\n",
       "      <td>1.019448</td>\n",
       "      <td>-0.122936</td>\n",
       "      <td>0.096939</td>\n",
       "      <td>0.001932</td>\n",
       "      <td>0.004930</td>\n",
       "      <td>0.004918</td>\n",
       "      <td>0.011926</td>\n",
       "      <td>-0.004314</td>\n",
       "      <td>0.006308</td>\n",
       "      <td>0.016334</td>\n",
       "      <td>0.010356</td>\n",
       "      <td>0.007431</td>\n",
       "      <td>3</td>\n",
       "    </tr>\n",
       "    <tr>\n",
       "      <th>2</th>\n",
       "      <td>1.019927</td>\n",
       "      <td>-0.124997</td>\n",
       "      <td>0.092897</td>\n",
       "      <td>0.002904</td>\n",
       "      <td>0.006460</td>\n",
       "      <td>0.006145</td>\n",
       "      <td>-0.004150</td>\n",
       "      <td>-0.012640</td>\n",
       "      <td>0.004335</td>\n",
       "      <td>0.022256</td>\n",
       "      <td>0.006920</td>\n",
       "      <td>0.008753</td>\n",
       "      <td>3</td>\n",
       "    </tr>\n",
       "    <tr>\n",
       "      <th>3</th>\n",
       "      <td>1.020349</td>\n",
       "      <td>-0.130493</td>\n",
       "      <td>0.087654</td>\n",
       "      <td>0.002574</td>\n",
       "      <td>0.004029</td>\n",
       "      <td>0.004945</td>\n",
       "      <td>-0.016228</td>\n",
       "      <td>-0.007697</td>\n",
       "      <td>-0.000352</td>\n",
       "      <td>0.009165</td>\n",
       "      <td>0.007793</td>\n",
       "      <td>0.008186</td>\n",
       "      <td>3</td>\n",
       "    </tr>\n",
       "    <tr>\n",
       "      <th>4</th>\n",
       "      <td>1.020255</td>\n",
       "      <td>-0.130209</td>\n",
       "      <td>0.084999</td>\n",
       "      <td>0.001949</td>\n",
       "      <td>0.003876</td>\n",
       "      <td>0.003637</td>\n",
       "      <td>-0.006483</td>\n",
       "      <td>-0.000166</td>\n",
       "      <td>-0.003957</td>\n",
       "      <td>0.014544</td>\n",
       "      <td>0.007815</td>\n",
       "      <td>0.008260</td>\n",
       "      <td>3</td>\n",
       "    </tr>\n",
       "  </tbody>\n",
       "</table>\n",
       "</div>"
      ],
      "text/plain": [
       "   mean(ax)  mean(ay)  mean(az)   std(ax)   std(ay)   std(az)  mean(bx)  \\\n",
       "0  1.019305 -0.124262  0.099732  0.001791  0.003270  0.003970  0.022250   \n",
       "1  1.019448 -0.122936  0.096939  0.001932  0.004930  0.004918  0.011926   \n",
       "2  1.019927 -0.124997  0.092897  0.002904  0.006460  0.006145 -0.004150   \n",
       "3  1.020349 -0.130493  0.087654  0.002574  0.004029  0.004945 -0.016228   \n",
       "4  1.020255 -0.130209  0.084999  0.001949  0.003876  0.003637 -0.006483   \n",
       "\n",
       "   mean(by)  mean(bz)   std(bx)   std(by)   std(bz)  target  \n",
       "0  0.019403  0.009468  0.014434  0.019828  0.005943       3  \n",
       "1 -0.004314  0.006308  0.016334  0.010356  0.007431       3  \n",
       "2 -0.012640  0.004335  0.022256  0.006920  0.008753       3  \n",
       "3 -0.007697 -0.000352  0.009165  0.007793  0.008186       3  \n",
       "4 -0.000166 -0.003957  0.014544  0.007815  0.008260       3  "
      ]
     },
     "metadata": {},
     "output_type": "display_data"
    }
   ],
   "source": [
    "col= ['mean(ax)','mean(ay)','mean(az)','std(ax)','std(ay)','std(az)',\n",
    "      'mean(bx)','mean(by)','mean(bz)','std(bx)','std(by)','std(bz)']\n",
    "data = pd.DataFrame(dd, columns = col )\n",
    "data.loc[:, 'target'] = train_labels\n",
    "display (data[0:5])"
   ]
  },
  {
   "cell_type": "code",
   "execution_count": 39,
   "metadata": {},
   "outputs": [],
   "source": [
    "def plot(data):\n",
    "    fig = plt.figure(figsize=(10,10))\n",
    "    ax = fig.gca(projection='3d')\n",
    "    for cls in data.target.unique():\n",
    "        mask=(data[\"target\"]==cls)\n",
    "        data_plot=data.loc[mask,:]\n",
    "        ax.scatter(data_plot['mean(ax)'],data_plot['mean(ay)'],data_plot['mean(az)'],label=cls)\n",
    "    ax.legend()\n",
    "    ax.set_xlabel(\"mean(ax)\")\n",
    "    ax.set_ylabel(\"mean(ay)\")\n",
    "    ax.set_zlabel(\"mean(az)\")\n",
    "    ax.set_title(\"MEAN ACCELERATION\")\n"
   ]
  },
  {
   "cell_type": "code",
   "execution_count": 40,
   "metadata": {},
   "outputs": [
    {
     "data": {
      "image/png": "[encoded data removed]",
      "text/plain": [
       "<Figure size 720x720 with 1 Axes>"
      ]
     },
     "metadata": {
      "needs_background": "light"
     },
     "output_type": "display_data"
    }
   ],
   "source": [
    "plot(data)"
   ]
  },
  {
   "cell_type": "markdown",
   "metadata": {},
   "source": [
    "### Data Preparation: The mean/std features are the inputs to our classifier\n",
    "<b/>a. Stack/combine the [mean, std] for all attributes into a single numpy array with 12 features. Suppose “ax” = accelerometer x, “by” = body gyro y\n",
    "<br/>Our feature is: [mean(ax),mean(ay),mean(az),std(ax),std(ay),std(az),mean(bx)…std(bz)]\n",
    "<br/>b. The training and test set is already divided. Repeat on the test set.\n",
    "<br/>c. Standardize the 12 features (fit on training and apply on train/test)."
   ]
  },
  {
   "cell_type": "markdown",
   "metadata": {},
   "source": [
    "#### a. Stack/combine the [mean, std] for all attributes into a single numpy array with 12 features. Suppose “ax” = accelerometer x, “by” = body gyro y \n",
    "<b/>Our feature is: [mean(ax),mean(ay),mean(az),std(ax),std(ay),std(az),mean(bx)…std(bz)] "
   ]
  },
  {
   "cell_type": "code",
   "execution_count": 41,
   "metadata": {},
   "outputs": [],
   "source": [
    "data_copy=data.copy()"
   ]
  },
  {
   "cell_type": "code",
   "execution_count": 42,
   "metadata": {},
   "outputs": [
    {
     "name": "stdout",
     "output_type": "stream",
     "text": [
      "\n"
     ]
    }
   ],
   "source": [
    "data.pop ('target')\n",
    "print()"
   ]
  },
  {
   "cell_type": "code",
   "execution_count": 43,
   "metadata": {
    "scrolled": true
   },
   "outputs": [
    {
     "data": {
      "text/html": [
       "<div>\n",
       "<style scoped>\n",
       "    .dataframe tbody tr th:only-of-type {\n",
       "        vertical-align: middle;\n",
       "    }\n",
       "\n",
       "    .dataframe tbody tr th {\n",
       "        vertical-align: top;\n",
       "    }\n",
       "\n",
       "    .dataframe thead th {\n",
       "        text-align: right;\n",
       "    }\n",
       "</style>\n",
       "<table border=\"1\" class=\"dataframe\">\n",
       "  <thead>\n",
       "    <tr style=\"text-align: right;\">\n",
       "      <th></th>\n",
       "      <th>mean(ax)</th>\n",
       "      <th>mean(ay)</th>\n",
       "      <th>mean(az)</th>\n",
       "      <th>std(ax)</th>\n",
       "      <th>std(ay)</th>\n",
       "      <th>std(az)</th>\n",
       "      <th>mean(bx)</th>\n",
       "      <th>mean(by)</th>\n",
       "      <th>mean(bz)</th>\n",
       "      <th>std(bx)</th>\n",
       "      <th>std(by)</th>\n",
       "      <th>std(bz)</th>\n",
       "    </tr>\n",
       "  </thead>\n",
       "  <tbody>\n",
       "    <tr>\n",
       "      <th>0</th>\n",
       "      <td>1.019305</td>\n",
       "      <td>-0.124262</td>\n",
       "      <td>0.099732</td>\n",
       "      <td>0.001791</td>\n",
       "      <td>0.003270</td>\n",
       "      <td>0.003970</td>\n",
       "      <td>0.022250</td>\n",
       "      <td>0.019403</td>\n",
       "      <td>0.009468</td>\n",
       "      <td>0.014434</td>\n",
       "      <td>0.019828</td>\n",
       "      <td>0.005943</td>\n",
       "    </tr>\n",
       "    <tr>\n",
       "      <th>1</th>\n",
       "      <td>1.019448</td>\n",
       "      <td>-0.122936</td>\n",
       "      <td>0.096939</td>\n",
       "      <td>0.001932</td>\n",
       "      <td>0.004930</td>\n",
       "      <td>0.004918</td>\n",
       "      <td>0.011926</td>\n",
       "      <td>-0.004314</td>\n",
       "      <td>0.006308</td>\n",
       "      <td>0.016334</td>\n",
       "      <td>0.010356</td>\n",
       "      <td>0.007431</td>\n",
       "    </tr>\n",
       "    <tr>\n",
       "      <th>2</th>\n",
       "      <td>1.019927</td>\n",
       "      <td>-0.124997</td>\n",
       "      <td>0.092897</td>\n",
       "      <td>0.002904</td>\n",
       "      <td>0.006460</td>\n",
       "      <td>0.006145</td>\n",
       "      <td>-0.004150</td>\n",
       "      <td>-0.012640</td>\n",
       "      <td>0.004335</td>\n",
       "      <td>0.022256</td>\n",
       "      <td>0.006920</td>\n",
       "      <td>0.008753</td>\n",
       "    </tr>\n",
       "    <tr>\n",
       "      <th>3</th>\n",
       "      <td>1.020349</td>\n",
       "      <td>-0.130493</td>\n",
       "      <td>0.087654</td>\n",
       "      <td>0.002574</td>\n",
       "      <td>0.004029</td>\n",
       "      <td>0.004945</td>\n",
       "      <td>-0.016228</td>\n",
       "      <td>-0.007697</td>\n",
       "      <td>-0.000352</td>\n",
       "      <td>0.009165</td>\n",
       "      <td>0.007793</td>\n",
       "      <td>0.008186</td>\n",
       "    </tr>\n",
       "    <tr>\n",
       "      <th>4</th>\n",
       "      <td>1.020255</td>\n",
       "      <td>-0.130209</td>\n",
       "      <td>0.084999</td>\n",
       "      <td>0.001949</td>\n",
       "      <td>0.003876</td>\n",
       "      <td>0.003637</td>\n",
       "      <td>-0.006483</td>\n",
       "      <td>-0.000166</td>\n",
       "      <td>-0.003957</td>\n",
       "      <td>0.014544</td>\n",
       "      <td>0.007815</td>\n",
       "      <td>0.008260</td>\n",
       "    </tr>\n",
       "  </tbody>\n",
       "</table>\n",
       "</div>"
      ],
      "text/plain": [
       "   mean(ax)  mean(ay)  mean(az)   std(ax)   std(ay)   std(az)  mean(bx)  \\\n",
       "0  1.019305 -0.124262  0.099732  0.001791  0.003270  0.003970  0.022250   \n",
       "1  1.019448 -0.122936  0.096939  0.001932  0.004930  0.004918  0.011926   \n",
       "2  1.019927 -0.124997  0.092897  0.002904  0.006460  0.006145 -0.004150   \n",
       "3  1.020349 -0.130493  0.087654  0.002574  0.004029  0.004945 -0.016228   \n",
       "4  1.020255 -0.130209  0.084999  0.001949  0.003876  0.003637 -0.006483   \n",
       "\n",
       "   mean(by)  mean(bz)   std(bx)   std(by)   std(bz)  \n",
       "0  0.019403  0.009468  0.014434  0.019828  0.005943  \n",
       "1 -0.004314  0.006308  0.016334  0.010356  0.007431  \n",
       "2 -0.012640  0.004335  0.022256  0.006920  0.008753  \n",
       "3 -0.007697 -0.000352  0.009165  0.007793  0.008186  \n",
       "4 -0.000166 -0.003957  0.014544  0.007815  0.008260  "
      ]
     },
     "metadata": {},
     "output_type": "display_data"
    }
   ],
   "source": [
    "\n",
    "display (data[0:5])"
   ]
  },
  {
   "cell_type": "code",
   "execution_count": 44,
   "metadata": {},
   "outputs": [
    {
     "name": "stdout",
     "output_type": "stream",
     "text": [
      "[[ 1.01930457 -0.12426187  0.09973179 ...  0.01443409  0.01982837\n",
      "   0.00594324]\n",
      " [ 1.01944797 -0.12293557  0.09693948 ...  0.01633397  0.01035606\n",
      "   0.00743069]\n",
      " [ 1.01992651 -0.12499678  0.0928968  ...  0.02225643  0.00692012\n",
      "   0.00875341]\n",
      " ...\n",
      " [ 0.98534778 -0.21852865 -0.01096064 ...  0.54099643  0.90627827\n",
      "   0.35427565]\n",
      " [ 0.99047763 -0.21577488 -0.02693014 ...  0.41003567  0.9096776\n",
      "   0.34562018]\n",
      " [ 1.00066607 -0.21246879 -0.05768362 ...  0.47769263  0.78146449\n",
      "   0.37832926]]\n"
     ]
    }
   ],
   "source": [
    "train_data = data.to_numpy() ##convert train data to numpy\n",
    "print (train_data)"
   ]
  },
  {
   "cell_type": "markdown",
   "metadata": {},
   "source": [
    "#### b. The training and test set is already divided. Repeat on the test set. "
   ]
  },
  {
   "cell_type": "code",
   "execution_count": 45,
   "metadata": {},
   "outputs": [
    {
     "data": {
      "text/html": [
       "<div>\n",
       "<style scoped>\n",
       "    .dataframe tbody tr th:only-of-type {\n",
       "        vertical-align: middle;\n",
       "    }\n",
       "\n",
       "    .dataframe tbody tr th {\n",
       "        vertical-align: top;\n",
       "    }\n",
       "\n",
       "    .dataframe thead th {\n",
       "        text-align: right;\n",
       "    }\n",
       "</style>\n",
       "<table border=\"1\" class=\"dataframe\">\n",
       "  <thead>\n",
       "    <tr style=\"text-align: right;\">\n",
       "      <th></th>\n",
       "      <th>mean(ax)</th>\n",
       "      <th>mean(ay)</th>\n",
       "      <th>mean(az)</th>\n",
       "      <th>std(ax)</th>\n",
       "      <th>std(ay)</th>\n",
       "      <th>std(az)</th>\n",
       "      <th>mean(bx)</th>\n",
       "      <th>mean(by)</th>\n",
       "      <th>mean(bz)</th>\n",
       "      <th>std(bx)</th>\n",
       "      <th>std(by)</th>\n",
       "      <th>std(bz)</th>\n",
       "    </tr>\n",
       "  </thead>\n",
       "  <tbody>\n",
       "    <tr>\n",
       "      <th>0</th>\n",
       "      <td>0.993803</td>\n",
       "      <td>-0.267531</td>\n",
       "      <td>0.138710</td>\n",
       "      <td>0.019505</td>\n",
       "      <td>0.009835</td>\n",
       "      <td>0.019915</td>\n",
       "      <td>0.152280</td>\n",
       "      <td>-0.007880</td>\n",
       "      <td>0.045718</td>\n",
       "      <td>0.103101</td>\n",
       "      <td>0.142182</td>\n",
       "      <td>0.030697</td>\n",
       "    </tr>\n",
       "    <tr>\n",
       "      <th>1</th>\n",
       "      <td>0.993323</td>\n",
       "      <td>-0.268710</td>\n",
       "      <td>0.140849</td>\n",
       "      <td>0.009345</td>\n",
       "      <td>0.006086</td>\n",
       "      <td>0.013244</td>\n",
       "      <td>0.026941</td>\n",
       "      <td>-0.050997</td>\n",
       "      <td>0.041768</td>\n",
       "      <td>0.066256</td>\n",
       "      <td>0.055685</td>\n",
       "      <td>0.017820</td>\n",
       "    </tr>\n",
       "    <tr>\n",
       "      <th>2</th>\n",
       "      <td>0.992927</td>\n",
       "      <td>-0.273769</td>\n",
       "      <td>0.134786</td>\n",
       "      <td>0.003166</td>\n",
       "      <td>0.007331</td>\n",
       "      <td>0.008644</td>\n",
       "      <td>-0.021182</td>\n",
       "      <td>-0.041510</td>\n",
       "      <td>0.030026</td>\n",
       "      <td>0.025122</td>\n",
       "      <td>0.018389</td>\n",
       "      <td>0.013929</td>\n",
       "    </tr>\n",
       "    <tr>\n",
       "      <th>3</th>\n",
       "      <td>0.991127</td>\n",
       "      <td>-0.283087</td>\n",
       "      <td>0.131889</td>\n",
       "      <td>0.003101</td>\n",
       "      <td>0.008160</td>\n",
       "      <td>0.009135</td>\n",
       "      <td>-0.029875</td>\n",
       "      <td>-0.023333</td>\n",
       "      <td>0.014165</td>\n",
       "      <td>0.029631</td>\n",
       "      <td>0.020964</td>\n",
       "      <td>0.019917</td>\n",
       "    </tr>\n",
       "    <tr>\n",
       "      <th>4</th>\n",
       "      <td>0.990448</td>\n",
       "      <td>-0.290141</td>\n",
       "      <td>0.123383</td>\n",
       "      <td>0.003382</td>\n",
       "      <td>0.005975</td>\n",
       "      <td>0.007692</td>\n",
       "      <td>-0.033330</td>\n",
       "      <td>-0.004688</td>\n",
       "      <td>-0.003396</td>\n",
       "      <td>0.023676</td>\n",
       "      <td>0.018816</td>\n",
       "      <td>0.017797</td>\n",
       "    </tr>\n",
       "  </tbody>\n",
       "</table>\n",
       "</div>"
      ],
      "text/plain": [
       "   mean(ax)  mean(ay)  mean(az)   std(ax)   std(ay)   std(az)  mean(bx)  \\\n",
       "0  0.993803 -0.267531  0.138710  0.019505  0.009835  0.019915  0.152280   \n",
       "1  0.993323 -0.268710  0.140849  0.009345  0.006086  0.013244  0.026941   \n",
       "2  0.992927 -0.273769  0.134786  0.003166  0.007331  0.008644 -0.021182   \n",
       "3  0.991127 -0.283087  0.131889  0.003101  0.008160  0.009135 -0.029875   \n",
       "4  0.990448 -0.290141  0.123383  0.003382  0.005975  0.007692 -0.033330   \n",
       "\n",
       "   mean(by)  mean(bz)   std(bx)   std(by)   std(bz)  \n",
       "0 -0.007880  0.045718  0.103101  0.142182  0.030697  \n",
       "1 -0.050997  0.041768  0.066256  0.055685  0.017820  \n",
       "2 -0.041510  0.030026  0.025122  0.018389  0.013929  \n",
       "3 -0.023333  0.014165  0.029631  0.020964  0.019917  \n",
       "4 -0.004688 -0.003396  0.023676  0.018816  0.017797  "
      ]
     },
     "metadata": {},
     "output_type": "display_data"
    }
   ],
   "source": [
    "features1 = ['total_acc_x_test', 'total_acc_y_test', 'total_acc_z_test']\n",
    "\n",
    "features2 = ['body_gyro_x_test', 'body_gyro_y_test', 'body_gyro_z_test']\n",
    "\n",
    "dd2=np.zeros((len(mat3['total_acc_x_test']), len(features1)*4))\n",
    "\n",
    "adj=0            \n",
    "for i,feat_name in enumerate (features1):\n",
    "    feat = mat3[feat_name]  # this is a numpy array\n",
    "    dd2[:,i]=np.mean(feat,axis=1)\n",
    "\n",
    "adj+=len(features1)\n",
    "for ii, feat in enumerate(features1):\n",
    "    feat = mat3[feat]\n",
    "    dd2[:,adj+ii]=np.std (feat,axis =1)\n",
    "\n",
    "adj+=len(features1)    \n",
    "for i,feat_name in enumerate (features2):\n",
    "    feat = mat3[feat_name]  # this is a numpy array\n",
    "    dd2[:,adj+i]=np.mean(feat,axis=1)\n",
    "\n",
    "adj+=len(features1)\n",
    "for ii, feat in enumerate(features2):\n",
    "    feat = mat3[feat]\n",
    "    dd2[:,adj+ii]=np.std (feat,axis =1)\n",
    "    \n",
    "\n",
    "    \n",
    "    \n",
    "np.equal(dd2[:,0],np.array(mat3['total_acc_x_test']).mean(axis=1)).all()\n",
    "\n",
    "\n",
    "col= ['mean(ax)','mean(ay)','mean(az)','std(ax)','std(ay)','std(az)',\n",
    "      'mean(bx)','mean(by)','mean(bz)','std(bx)','std(by)','std(bz)']\n",
    "test_data = pd.DataFrame(dd2, columns = col )\n",
    "# data.loc[:, 'target'] = train_labels\n",
    "display (test_data[0:5])"
   ]
  },
  {
   "cell_type": "code",
   "execution_count": 46,
   "metadata": {},
   "outputs": [
    {
     "name": "stdout",
     "output_type": "stream",
     "text": [
      "[[ 0.99380341 -0.26753133  0.13870982 ...  0.10310066  0.14218233\n",
      "   0.03069701]\n",
      " [ 0.99332314 -0.26871008  0.14084881 ...  0.06625582  0.05568533\n",
      "   0.01781963]\n",
      " [ 0.99292678 -0.27376935  0.13478558 ...  0.02512222  0.01838936\n",
      "   0.01392871]\n",
      " ...\n",
      " [ 0.98068201 -0.23299555 -0.23034264 ...  0.50306871  0.33975469\n",
      "   0.38923065]\n",
      " [ 0.95882454 -0.22529471 -0.23266996 ...  0.28979208  0.34119843\n",
      "   0.31924067]\n",
      " [ 0.94264875 -0.24370317 -0.24704191 ...  0.33420684  0.37673881\n",
      "   0.33311444]]\n"
     ]
    }
   ],
   "source": [
    "test_data = test_data.to_numpy() ##convert test data to numpy\n",
    "print (test_data)"
   ]
  },
  {
   "cell_type": "markdown",
   "metadata": {},
   "source": [
    "#### c. Standardize the 12 features (fit on training and apply on train/test)."
   ]
  },
  {
   "cell_type": "code",
   "execution_count": 47,
   "metadata": {},
   "outputs": [],
   "source": [
    "train_data = sc.fit_transform(train_data)  #note this also transforms and fits the model.\n",
    "test_data = sc.transform(test_data)"
   ]
  },
  {
   "cell_type": "markdown",
   "metadata": {},
   "source": [
    "### Implement the Neural Network Classifier:\n",
    "<b/>a. Use a two hidden layer neural network with 128 neurons in each layer, followed by ‘relu” activation. The input contains the 12 features (standardized).\n",
    "<br/>b. In the output layer, specify a N=5 neuron output, with ‘softmax’ activation.\n",
    "<br/>c. Compile the model, using ‘adam’ optimizer, loss as ‘categorical_crossentropy’, and metrics of [‘accuracy’].\n",
    "<br/>d. Fit (train) the model using the training [7352, 12] features and train_label for 30 epoch.\n",
    "<br/>e. Evaluate the results of the model on the [2549,12] test feature and test_label"
   ]
  },
  {
   "cell_type": "markdown",
   "metadata": {},
   "source": [
    "#### a. Use a two hidden layer neural network with 128 neurons in each layer, followed by ‘relu” activation. The input contains the 12 features (standardized). "
   ]
  },
  {
   "cell_type": "code",
   "execution_count": 48,
   "metadata": {},
   "outputs": [],
   "source": [
    "#convert to one-hot\n",
    "train_labels_enc1 = to_categorical(train_labels)\n",
    "test_labels_enc1 = to_categorical(test_labels)\n",
    "# print(test_labels_enc1[50:100])"
   ]
  },
  {
   "cell_type": "code",
   "execution_count": 49,
   "metadata": {},
   "outputs": [
    {
     "name": "stdout",
     "output_type": "stream",
     "text": [
      "[[0. 0. 0. 1. 0.]\n",
      " [0. 0. 0. 1. 0.]\n",
      " [0. 0. 0. 1. 0.]\n",
      " ...\n",
      " [0. 0. 1. 0. 0.]\n",
      " [0. 0. 1. 0. 0.]\n",
      " [0. 0. 1. 0. 0.]]\n",
      "5\n"
     ]
    }
   ],
   "source": [
    "#parameters for neural net\n",
    "num_inputs1 = train_data.shape[1] # Total number 0f input variables (per sample)\n",
    "num_labels1 = train_labels_enc1.shape[1] \n",
    "print (train_labels_enc1)\n",
    "print (num_labels1)"
   ]
  },
  {
   "cell_type": "code",
   "execution_count": 50,
   "metadata": {},
   "outputs": [],
   "source": [
    "#build neural net model\n",
    "model = Sequential()  #tf.keras.sequential is different...\n",
    "model.add(Dense(128, input_shape=(num_inputs1,)))\n",
    "model.add(Activation('relu'))\n",
    "model.add(Dense(128, kernel_regularizer=regularizers.l2(0.01))) \n",
    "model.add(Activation('relu'))"
   ]
  },
  {
   "cell_type": "markdown",
   "metadata": {},
   "source": [
    "#### b. In the output layer, specify a N=5 neuron output, with ‘softmax’ activation. "
   ]
  },
  {
   "cell_type": "code",
   "execution_count": 51,
   "metadata": {
    "scrolled": true
   },
   "outputs": [
    {
     "name": "stdout",
     "output_type": "stream",
     "text": [
      "5\n"
     ]
    }
   ],
   "source": [
    "print (num_labels1)\n",
    "model.add(Dense(num_labels1))\n",
    "model.add(Activation('softmax'))\n"
   ]
  },
  {
   "cell_type": "markdown",
   "metadata": {},
   "source": [
    "#### c. Compile the model, using ‘adam’ optimizer, loss as ‘categorical_crossentropy’, and metrics of [‘accuracy’]. "
   ]
  },
  {
   "cell_type": "code",
   "execution_count": 52,
   "metadata": {},
   "outputs": [
    {
     "name": "stdout",
     "output_type": "stream",
     "text": [
      "Model: \"sequential_2\"\n",
      "_________________________________________________________________\n",
      "Layer (type)                 Output Shape              Param #   \n",
      "=================================================================\n",
      "dense_4 (Dense)              (None, 128)               1664      \n",
      "_________________________________________________________________\n",
      "activation_4 (Activation)    (None, 128)               0         \n",
      "_________________________________________________________________\n",
      "dense_5 (Dense)              (None, 128)               16512     \n",
      "_________________________________________________________________\n",
      "activation_5 (Activation)    (None, 128)               0         \n",
      "_________________________________________________________________\n",
      "dense_6 (Dense)              (None, 5)                 645       \n",
      "_________________________________________________________________\n",
      "activation_6 (Activation)    (None, 5)                 0         \n",
      "=================================================================\n",
      "Total params: 18,821\n",
      "Trainable params: 18,821\n",
      "Non-trainable params: 0\n",
      "_________________________________________________________________\n"
     ]
    }
   ],
   "source": [
    "model.summary()  #check number of parameters in dense layer is Wx + b, output=# neurons, (param = output * input + output * b)\n",
    "# sgd = optimizers.SGD(lr=0.05)  #optional, define a custom optimizer or just specify optimizer='sgd' or 'adam' in compile()\n",
    "model.compile(optimizer= 'adam',\n",
    "              loss='categorical_crossentropy',\n",
    "              metrics=['accuracy'])"
   ]
  },
  {
   "cell_type": "markdown",
   "metadata": {},
   "source": [
    "#### d. Fit (train) the model using the training [7352, 12] features and train_label for 30 epoch."
   ]
  },
  {
   "cell_type": "code",
   "execution_count": 53,
   "metadata": {
    "scrolled": true
   },
   "outputs": [
    {
     "name": "stdout",
     "output_type": "stream",
     "text": [
      "(7352, 12)\n",
      "(7352, 5)\n",
      "(2947, 5)\n"
     ]
    }
   ],
   "source": [
    "print (train_data.shape)\n",
    "print (train_labels_enc1.shape)\n",
    "print (test_labels_enc1.shape)"
   ]
  },
  {
   "cell_type": "code",
   "execution_count": 54,
   "metadata": {},
   "outputs": [
    {
     "name": "stdout",
     "output_type": "stream",
     "text": [
      "Train on 5146 samples, validate on 2206 samples\n",
      "Epoch 1/30\n",
      "5146/5146 [==============================] - 1s 189us/step - loss: 1.1496 - accuracy: 0.8012 - val_loss: 0.6368 - val_accuracy: 0.8672\n",
      "Epoch 2/30\n",
      "5146/5146 [==============================] - 1s 125us/step - loss: 0.4596 - accuracy: 0.8817 - val_loss: 0.4376 - val_accuracy: 0.8912\n",
      "Epoch 3/30\n",
      "5146/5146 [==============================] - 1s 130us/step - loss: 0.3482 - accuracy: 0.8898 - val_loss: 0.3775 - val_accuracy: 0.8898\n",
      "Epoch 4/30\n",
      "5146/5146 [==============================] - 1s 129us/step - loss: 0.3071 - accuracy: 0.9015 - val_loss: 0.4049 - val_accuracy: 0.8513\n",
      "Epoch 5/30\n",
      "5146/5146 [==============================] - 1s 122us/step - loss: 0.2810 - accuracy: 0.9046 - val_loss: 0.4203 - val_accuracy: 0.8436\n",
      "Epoch 6/30\n",
      "5146/5146 [==============================] - 1s 176us/step - loss: 0.2651 - accuracy: 0.9087 - val_loss: 0.4154 - val_accuracy: 0.8432\n",
      "Epoch 7/30\n",
      "5146/5146 [==============================] - 1s 167us/step - loss: 0.2618 - accuracy: 0.9058 - val_loss: 0.4120 - val_accuracy: 0.8513\n",
      "Epoch 8/30\n",
      "5146/5146 [==============================] - 1s 159us/step - loss: 0.2556 - accuracy: 0.9102 - val_loss: 0.4283 - val_accuracy: 0.8441\n",
      "Epoch 9/30\n",
      "5146/5146 [==============================] - 1s 157us/step - loss: 0.2487 - accuracy: 0.9120 - val_loss: 0.3474 - val_accuracy: 0.8726\n",
      "Epoch 10/30\n",
      "5146/5146 [==============================] - 1s 242us/step - loss: 0.2475 - accuracy: 0.9110 - val_loss: 0.3694 - val_accuracy: 0.8626\n",
      "Epoch 11/30\n",
      "5146/5146 [==============================] - 1s 158us/step - loss: 0.2319 - accuracy: 0.9188 - val_loss: 0.4051 - val_accuracy: 0.8413\n",
      "Epoch 12/30\n",
      "5146/5146 [==============================] - 1s 163us/step - loss: 0.2242 - accuracy: 0.9207 - val_loss: 0.3718 - val_accuracy: 0.8626\n",
      "Epoch 13/30\n",
      "5146/5146 [==============================] - 1s 214us/step - loss: 0.2219 - accuracy: 0.9217 - val_loss: 0.4207 - val_accuracy: 0.8391\n",
      "Epoch 14/30\n",
      "5146/5146 [==============================] - 1s 169us/step - loss: 0.2219 - accuracy: 0.9215 - val_loss: 0.3584 - val_accuracy: 0.8722\n",
      "Epoch 15/30\n",
      "5146/5146 [==============================] - 1s 156us/step - loss: 0.2149 - accuracy: 0.9242 - val_loss: 0.3539 - val_accuracy: 0.8663\n",
      "Epoch 16/30\n",
      "5146/5146 [==============================] - 1s 188us/step - loss: 0.2177 - accuracy: 0.9180 - val_loss: 0.3925 - val_accuracy: 0.8572\n",
      "Epoch 17/30\n",
      "5146/5146 [==============================] - 1s 197us/step - loss: 0.2068 - accuracy: 0.9227 - val_loss: 0.3895 - val_accuracy: 0.8513\n",
      "Epoch 18/30\n",
      "5146/5146 [==============================] - 1s 156us/step - loss: 0.2019 - accuracy: 0.9262 - val_loss: 0.3414 - val_accuracy: 0.8749\n",
      "Epoch 19/30\n",
      "5146/5146 [==============================] - 1s 182us/step - loss: 0.2046 - accuracy: 0.9281 - val_loss: 0.3888 - val_accuracy: 0.8599\n",
      "Epoch 20/30\n",
      "5146/5146 [==============================] - 1s 144us/step - loss: 0.1992 - accuracy: 0.9298 - val_loss: 0.4566 - val_accuracy: 0.8345\n",
      "Epoch 21/30\n",
      "5146/5146 [==============================] - 1s 157us/step - loss: 0.1988 - accuracy: 0.9300 - val_loss: 0.4023 - val_accuracy: 0.8504\n",
      "Epoch 22/30\n",
      "5146/5146 [==============================] - 1s 234us/step - loss: 0.1932 - accuracy: 0.9295 - val_loss: 0.4097 - val_accuracy: 0.8468\n",
      "Epoch 23/30\n",
      "5146/5146 [==============================] - 1s 160us/step - loss: 0.1951 - accuracy: 0.9312 - val_loss: 0.3854 - val_accuracy: 0.8558\n",
      "Epoch 24/30\n",
      "5146/5146 [==============================] - 1s 154us/step - loss: 0.1938 - accuracy: 0.9264 - val_loss: 0.4235 - val_accuracy: 0.8490\n",
      "Epoch 25/30\n",
      "5146/5146 [==============================] - 1s 139us/step - loss: 0.1909 - accuracy: 0.9277 - val_loss: 0.4484 - val_accuracy: 0.8404\n",
      "Epoch 26/30\n",
      "5146/5146 [==============================] - 1s 120us/step - loss: 0.1875 - accuracy: 0.9357 - val_loss: 0.4884 - val_accuracy: 0.8286\n",
      "Epoch 27/30\n",
      "5146/5146 [==============================] - 1s 124us/step - loss: 0.1823 - accuracy: 0.9330 - val_loss: 0.4703 - val_accuracy: 0.8327\n",
      "Epoch 28/30\n",
      "5146/5146 [==============================] - 1s 124us/step - loss: 0.1790 - accuracy: 0.9365 - val_loss: 0.4160 - val_accuracy: 0.8441\n",
      "Epoch 29/30\n",
      "5146/5146 [==============================] - 1s 118us/step - loss: 0.1802 - accuracy: 0.9332 - val_loss: 0.4389 - val_accuracy: 0.8427\n",
      "Epoch 30/30\n",
      "5146/5146 [==============================] - 1s 109us/step - loss: 0.1919 - accuracy: 0.9308 - val_loss: 0.4065 - val_accuracy: 0.8586\n",
      "\n",
      "Test loss: 0.449454566726128\n",
      "\n",
      "Test accuracy: 0.8408551216125488\n"
     ]
    }
   ],
   "source": [
    "history1 = model.fit(train_data, train_labels_enc1, validation_split=0.3, epochs=30)  \n",
    "test_loss1, test_acc1 = model.evaluate(test_data,  test_labels_enc1, verbose=2)\n",
    "print('\\nTest loss:', test_loss1)  \n",
    "print('\\nTest accuracy:', test_acc1)"
   ]
  },
  {
   "cell_type": "markdown",
   "metadata": {},
   "source": [
    "#### e. Evaluate the results of the model on the [2549,12] test feature and test_label"
   ]
  },
  {
   "cell_type": "code",
   "execution_count": 55,
   "metadata": {},
   "outputs": [
    {
     "name": "stdout",
     "output_type": "stream",
     "text": [
      "[[7.23098521e-04 9.28206462e-03 3.44025646e-03 9.86511469e-01\n",
      "  4.31510744e-05]\n",
      " [4.65172256e-04 1.09115457e-02 1.75243872e-03 9.86850262e-01\n",
      "  2.05479882e-05]\n",
      " [1.88347811e-04 9.28519107e-03 8.00489215e-04 9.89709437e-01\n",
      "  1.65023303e-05]\n",
      " [6.82734462e-05 4.01710439e-03 4.82543575e-04 9.95418549e-01\n",
      "  1.35385862e-05]\n",
      " [4.33678142e-05 2.77720555e-03 3.69093788e-04 9.96799469e-01\n",
      "  1.08397935e-05]]\n",
      "actual label\n",
      " [[0. 0. 0. 1. 0.]\n",
      " [0. 0. 0. 1. 0.]\n",
      " [0. 0. 0. 1. 0.]\n",
      " [0. 0. 0. 1. 0.]\n",
      " [0. 0. 0. 1. 0.]]\n",
      "(2947, 5)\n"
     ]
    }
   ],
   "source": [
    "y_pred5 = model.predict_proba(test_data)\n",
    "print(y_pred5[0:5])\n",
    "print('actual label\\n', test_labels_enc1[0:5])\n",
    "print (y_pred5.shape)"
   ]
  },
  {
   "cell_type": "markdown",
   "metadata": {},
   "source": [
    "### Analysis\n"
   ]
  },
  {
   "cell_type": "markdown",
   "metadata": {},
   "source": [
    "#### a. Show the 3D color coded plot of 1.b. What classes are more “separable” or difficult to classify based on this analysis of the accelerometer? "
   ]
  },
  {
   "cell_type": "code",
   "execution_count": 56,
   "metadata": {},
   "outputs": [
    {
     "data": {
      "image/png": "[encoded data removed]",
      "text/plain": [
       "<Figure size 720x720 with 1 Axes>"
      ]
     },
     "metadata": {
      "needs_background": "light"
     },
     "output_type": "display_data"
    }
   ],
   "source": [
    "plot (data_copy)"
   ]
  },
  {
   "cell_type": "markdown",
   "metadata": {},
   "source": [
    "Most Seperable Classes: 0(green), 1 (orange) & 2 (purple)\n",
    "\n",
    "\n",
    "Least Seperable Classes: 3(blue) & 4(red)"
   ]
  },
  {
   "cell_type": "markdown",
   "metadata": {},
   "source": [
    "#### b. Plot the training cross entropy loss, the training accuracy with the number of epoch (full iterations over dataset) in the data. "
   ]
  },
  {
   "cell_type": "code",
   "execution_count": 57,
   "metadata": {},
   "outputs": [
    {
     "name": "stdout",
     "output_type": "stream",
     "text": [
      "dict_keys(['val_loss', 'val_accuracy', 'loss', 'accuracy'])\n"
     ]
    },
    {
     "data": {
      "text/plain": [
       "<matplotlib.legend.Legend at 0x1a42ec9d30>"
      ]
     },
     "execution_count": 57,
     "metadata": {},
     "output_type": "execute_result"
    },
    {
     "data": {
      "image/png": "[encoded data removed]",
      "text/plain": [
       "<Figure size 432x288 with 1 Axes>"
      ]
     },
     "metadata": {
      "needs_background": "light"
     },
     "output_type": "display_data"
    }
   ],
   "source": [
    "print(history1.history.keys())\n",
    "#Plot it - we can see \"convergence\" or \"not yet...weights are changing a lot still, loss still can go lower\"\n",
    "plt.plot(history1.history['accuracy'])\n",
    "plt.plot(history1.history['val_accuracy'])  #if validation_split>0\n",
    "plt.title('Model TRAIN accuracy')\n",
    "plt.ylabel('Accuracy')\n",
    "plt.xlabel('Epoch')\n",
    "plt.legend(['Train', 'Val'], loc='upper left')"
   ]
  },
  {
   "cell_type": "code",
   "execution_count": 58,
   "metadata": {},
   "outputs": [
    {
     "data": {
      "image/png": "[encoded data removed]",
      "text/plain": [
       "<Figure size 432x288 with 1 Axes>"
      ]
     },
     "metadata": {
      "needs_background": "light"
     },
     "output_type": "display_data"
    }
   ],
   "source": [
    "# Plot training & validation loss values\n",
    "plt.figure()\n",
    "plt.plot(history1.history['loss'])\n",
    "plt.plot(history1.history['val_loss']) #if validation_split>0\n",
    "plt.title('Model TRAIN loss')\n",
    "plt.ylabel('Loss')\n",
    "plt.xlabel('Epoch')\n",
    "plt.legend(['Train', 'Val'], loc='upper left')\n",
    "plt.show()"
   ]
  },
  {
   "cell_type": "markdown",
   "metadata": {},
   "source": [
    "#### c. Output the confusion matrix and accuracy for both training and test data with neural network."
   ]
  },
  {
   "cell_type": "code",
   "execution_count": 59,
   "metadata": {},
   "outputs": [
    {
     "name": "stdout",
     "output_type": "stream",
     "text": [
      "Accuracy for training set for neural network = 0.9174374319912949\n",
      "The confusion matrix for training set for neural network is\n",
      " [[1407    0    0    0    0]\n",
      " [   2 1130    0  153    1]\n",
      " [   0    0 1798    0  261]\n",
      " [   0  133    0 1241    0]\n",
      " [   0    0   57    0 1169]]\n",
      "\n",
      "Accuracy for test set for neural network = 0.8408551068883611\n",
      "The confusion matrix for test set for neural network is\n",
      " [[537   0   0   0   0]\n",
      " [  7 380   1 102   1]\n",
      " [  0   0 678   0 213]\n",
      " [  0  53   0 478   1]\n",
      " [  0   0  91   0 405]]\n"
     ]
    }
   ],
   "source": [
    "cm_test9 = confusion_matrix(test_labels_enc1.argmax(axis=1), y_pred5.argmax(axis=1))\n",
    "\n",
    "y_pred_train9 = model.predict_proba(train_data)\n",
    "cm_train9 = confusion_matrix(train_labels_enc1.argmax(axis=1), y_pred_train9.argmax(axis=1))\n",
    "\n",
    "\n",
    "print('Accuracy for training set for neural network = {}'.format((np.trace(cm_train9))/len(train_labels_enc1)))\n",
    "print('The confusion matrix for training set for neural network is\\n',cm_train9)\n",
    "\n",
    "print()\n",
    "\n",
    "print('Accuracy for test set for neural network = {}'.format((np.trace(cm_test9))/len(test_labels_enc1)))\n",
    "print('The confusion matrix for test set for neural network is\\n', cm_test9)"
   ]
  },
  {
   "cell_type": "markdown",
   "metadata": {},
   "source": [
    "###  Implement the SVM Classifier\n"
   ]
  },
  {
   "cell_type": "markdown",
   "metadata": {},
   "source": [
    "#### a. Use a nonlinear SVM with a radial basis function kernel (gamma='scale', kernel='rbf', probabilities=True) "
   ]
  },
  {
   "cell_type": "code",
   "execution_count": 60,
   "metadata": {},
   "outputs": [],
   "source": [
    "svm_classifier2 = svm.SVC(gamma='scale',kernel='rbf', probability=True) "
   ]
  },
  {
   "cell_type": "markdown",
   "metadata": {},
   "source": [
    "#### b. Fit (train) the model using the training data (12 features and train_label) "
   ]
  },
  {
   "cell_type": "code",
   "execution_count": 61,
   "metadata": {
    "scrolled": true
   },
   "outputs": [
    {
     "data": {
      "text/plain": [
       "SVC(C=1.0, cache_size=200, class_weight=None, coef0=0.0,\n",
       "    decision_function_shape='ovr', degree=3, gamma='scale', kernel='rbf',\n",
       "    max_iter=-1, probability=True, random_state=None, shrinking=True, tol=0.001,\n",
       "    verbose=False)"
      ]
     },
     "execution_count": 61,
     "metadata": {},
     "output_type": "execute_result"
    }
   ],
   "source": [
    "svm_classifier2.fit(train_data, train_labels.ravel()) "
   ]
  },
  {
   "cell_type": "code",
   "execution_count": 62,
   "metadata": {},
   "outputs": [
    {
     "data": {
      "text/plain": [
       "(2947, 12)"
      ]
     },
     "execution_count": 62,
     "metadata": {},
     "output_type": "execute_result"
    }
   ],
   "source": [
    "test_data.shape"
   ]
  },
  {
   "cell_type": "markdown",
   "metadata": {},
   "source": [
    "#### c. Evaluate the results of the model and test_label."
   ]
  },
  {
   "cell_type": "code",
   "execution_count": 63,
   "metadata": {},
   "outputs": [
    {
     "name": "stdout",
     "output_type": "stream",
     "text": [
      "[3 3 3 3 3 3 3 3 3 3 3 3 3 3 3 3 3 3 3 3 3 3 3 3 3 3 3 3 3 3 3 3 3 3 3 3 3\n",
      " 3 3 3 3 3 3 3 1 1 3 3 3 3]\n",
      "[[3 3 3 3 3 3 3 3 3 3 3 3 3 3 3 3 3 3 3 3 3 3 3 3 3 3 3 3 3 3 3 1 1 1 1 1\n",
      "  1 1 1 1 1 1 1 1 1 1 1 1 1 1]]\n",
      "(2947,)\n"
     ]
    }
   ],
   "source": [
    "#predict class of test data\n",
    "y_pred8 = svm_classifier2.predict(test_data) \n",
    "print(y_pred8[0:50])\n",
    "print(test_labels[0:50].reshape(1,-1))\n",
    "\n",
    "print (y_pred8.shape)"
   ]
  },
  {
   "cell_type": "code",
   "execution_count": 64,
   "metadata": {},
   "outputs": [
    {
     "name": "stdout",
     "output_type": "stream",
     "text": [
      "Number of mislabeled points out of a total 2947 points : 347\n"
     ]
    }
   ],
   "source": [
    "print(\"Number of mislabeled points out of a total %d points : %d\"\n",
    "      % (test_labels.shape[0],(test_labels.reshape(1,-1) != y_pred8).sum()))"
   ]
  },
  {
   "cell_type": "markdown",
   "metadata": {},
   "source": [
    "### Analysis"
   ]
  },
  {
   "cell_type": "markdown",
   "metadata": {},
   "source": [
    "#### a. Output the confusion matrix and accuracy for both training and test data with SVM. "
   ]
  },
  {
   "cell_type": "code",
   "execution_count": 65,
   "metadata": {},
   "outputs": [
    {
     "name": "stdout",
     "output_type": "stream",
     "text": [
      "The confusion matrix for train data is \n",
      " [[1407    1    0    0    0]\n",
      " [   0 1138    0  135    0]\n",
      " [   0    0 1923    0  160]\n",
      " [   0  147    0 1239    0]\n",
      " [   0    0  136    0 1066]]\n",
      "Accuracy for training set for SVM = 0.9212459194776932\n",
      "\n",
      "The confusion matrix for test data is \n",
      " [[537   2   0   0   0]\n",
      " [  0 383   0  53   0]\n",
      " [  0   1 774   0  69]\n",
      " [  0 104   0 479   0]\n",
      " [  0   1 117   0 427]]\n",
      "Accuracy for test set for SVM = 0.8822531387852053\n"
     ]
    }
   ],
   "source": [
    "cm_test8 = confusion_matrix(y_pred8, test_labels)\n",
    "\n",
    "y_pred_train8 = svm_classifier2.predict(train_data)\n",
    "cm_train8 = confusion_matrix(y_pred_train8, train_labels)\n",
    "\n",
    "\n",
    "print('The confusion matrix for train data is \\n', cm_train8)\n",
    "print('Accuracy for training set for SVM = {}'.format((np.trace(cm_train8))/len(train_labels)))\n",
    "\n",
    "print()\n",
    "\n",
    "print('The confusion matrix for test data is \\n', cm_test8)\n",
    "print('Accuracy for test set for SVM = {}'.format((np.trace(cm_test8))/len(test_labels)))"
   ]
  },
  {
   "cell_type": "markdown",
   "metadata": {},
   "source": [
    "#### b. For SVM, which classes of activities are the most difficult and which ones conversely are easy to “classify”? How does this compare with your analysis of data exploration in 1.a. and 1.b? "
   ]
  },
  {
   "cell_type": "markdown",
   "metadata": {},
   "source": [
    "I'm going to compare the precision and recall of all classes. the class with the highest precision and recall (f1-score) is the easiest to classify and the least is the hardest to classify"
   ]
  },
  {
   "cell_type": "code",
   "execution_count": 66,
   "metadata": {
    "scrolled": true
   },
   "outputs": [
    {
     "name": "stdout",
     "output_type": "stream",
     "text": [
      "              precision    recall  f1-score   support\n",
      "\n",
      "           0       1.00      1.00      1.00       537\n",
      "           1       0.88      0.78      0.83       491\n",
      "           2       0.92      0.87      0.89       891\n",
      "           3       0.82      0.90      0.86       532\n",
      "           4       0.78      0.86      0.82       496\n",
      "\n",
      "    accuracy                           0.88      2947\n",
      "   macro avg       0.88      0.88      0.88      2947\n",
      "weighted avg       0.89      0.88      0.88      2947\n",
      "\n"
     ]
    }
   ],
   "source": [
    "result=metrics.classification_report(test_labels, y_pred8, labels=None, target_names=None, \n",
    "                                      sample_weight=None, digits=2, output_dict=False)\n",
    "print (result)"
   ]
  },
  {
   "cell_type": "markdown",
   "metadata": {},
   "source": [
    "From the analysis above, \n",
    "<br/>Class 0, 2 & 3 are the easiest to classify (arranged in ascending order)\n",
    "<br/>while,\n",
    "<br/>Class 4 & 1 are the hardest to classify.\n",
    "\n",
    "\n"
   ]
  },
  {
   "cell_type": "markdown",
   "metadata": {},
   "source": [
    "#### c. In terms of performance and types of activities (6.b), how does the SVM and neural network compare? Are these activities difficult regardless of algorithm?"
   ]
  },
  {
   "cell_type": "markdown",
   "metadata": {},
   "source": [
    "The accuracy of SVM is higher than the accuracy of Neural Network in this data set.\n",
    "\n",
    "<br/>The activities that are easy and difficult to classify in SVM are different, than that of what found in my data exploration."
   ]
  }
 ],
 "metadata": {
  "kernelspec": {
   "display_name": "Python 3",
   "language": "python",
   "name": "python3"
  },
  "language_info": {
   "codemirror_mode": {
    "name": "ipython",
    "version": 3
   },
   "file_extension": ".py",
   "mimetype": "text/x-python",
   "name": "python",
   "nbconvert_exporter": "python",
   "pygments_lexer": "ipython3",
   "version": "3.7.3"
  }
 },
 "nbformat": 4,
 "nbformat_minor": 2
}
